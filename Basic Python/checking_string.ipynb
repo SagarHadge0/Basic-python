{
 "cells": [
  {
   "cell_type": "code",
   "execution_count": 1,
   "id": "4b27ca98",
   "metadata": {
    "tags": []
   },
   "outputs": [
    {
     "name": "stdout",
     "output_type": "stream",
     "text": [
      "IS Uppercase ? :- False\n"
     ]
    }
   ],
   "source": [
    "#methods\n",
    "\n",
    "s = 'hello am ISRO'\n",
    "print('IS Uppercase ? :-',s.isupper())"
   ]
  },
  {
   "cell_type": "code",
   "execution_count": 1,
   "id": "5ca6b427",
   "metadata": {},
   "outputs": [
    {
     "name": "stdout",
     "output_type": "stream",
     "text": [
      "IS Lowercase ? :- False\n"
     ]
    }
   ],
   "source": [
    "s = 'hello Am sagar'\n",
    "print('IS Lowercase ? :-',s.islower())"
   ]
  },
  {
   "cell_type": "code",
   "execution_count": 2,
   "id": "244a1fe7",
   "metadata": {},
   "outputs": [
    {
     "name": "stdout",
     "output_type": "stream",
     "text": [
      "IS Titlecase ? :- False\n"
     ]
    }
   ],
   "source": [
    "s = 'hello Am sagar'\n",
    "print('IS Titlecase ? :-',s.istitle())"
   ]
  },
  {
   "cell_type": "code",
   "execution_count": 5,
   "id": "acb4a1d9",
   "metadata": {},
   "outputs": [
    {
     "name": "stdout",
     "output_type": "stream",
     "text": [
      "IS Alphabetical ? :- False\n"
     ]
    }
   ],
   "source": [
    "s = 'hello Am sagar'\n",
    "print('IS Alphabetical ? :-',s.isalpha())"
   ]
  },
  {
   "cell_type": "code",
   "execution_count": 2,
   "id": "b28764a2",
   "metadata": {},
   "outputs": [
    {
     "name": "stdout",
     "output_type": "stream",
     "text": [
      "IS Alphanumric ? :- True\n"
     ]
    }
   ],
   "source": [
    "s = '1234567n'\n",
    "print('IS Alphanumric ? :-',s.isalnum())"
   ]
  },
  {
   "cell_type": "code",
   "execution_count": 3,
   "id": "a8ef3246",
   "metadata": {},
   "outputs": [
    {
     "name": "stdout",
     "output_type": "stream",
     "text": [
      "IS Digit ? :- True\n"
     ]
    }
   ],
   "source": [
    "s = '1234'\n",
    "print('IS Digit ? :-',s.isdigit())"
   ]
  },
  {
   "cell_type": "markdown",
   "id": "fdf54266",
   "metadata": {},
   "source": [
    "# split function"
   ]
  },
  {
   "cell_type": "code",
   "execution_count": 6,
   "id": "c83de5d1",
   "metadata": {},
   "outputs": [
    {
     "name": "stdout",
     "output_type": "stream",
     "text": [
      "['welcome', 'to', 'data', 'science']\n"
     ]
    }
   ],
   "source": [
    "# all sentense are seprated\n",
    "\n",
    "s = 'welcome to data science'\n",
    "q = s.split(' ')\n",
    "print(q)"
   ]
  },
  {
   "cell_type": "code",
   "execution_count": 7,
   "id": "62de3af0",
   "metadata": {},
   "outputs": [
    {
     "name": "stdout",
     "output_type": "stream",
     "text": [
      "['welcome ', 'o da', 'a science']\n"
     ]
    }
   ],
   "source": [
    "s = 'welcome to data science'\n",
    "q = s.split('t')\n",
    "print(q)"
   ]
  },
  {
   "cell_type": "code",
   "execution_count": 8,
   "id": "97d9a66b",
   "metadata": {},
   "outputs": [
    {
     "name": "stdout",
     "output_type": "stream",
     "text": [
      "['welcome to data sci', 'nce']\n"
     ]
    }
   ],
   "source": [
    "s = 'welcome to data sciEnce'\n",
    "q = s.split('E')\n",
    "print(q)"
   ]
  },
  {
   "cell_type": "markdown",
   "id": "cf7af729",
   "metadata": {},
   "source": [
    "# find function"
   ]
  },
  {
   "cell_type": "code",
   "execution_count": 10,
   "id": "d445faa0",
   "metadata": {},
   "outputs": [
    {
     "name": "stdout",
     "output_type": "stream",
     "text": [
      "16\n"
     ]
    }
   ],
   "source": [
    "#it is use to search a charecter in which number of line\n",
    "\n",
    "s = 'welcome to data science'\n",
    "q = s.find('science')\n",
    "print(q)"
   ]
  },
  {
   "cell_type": "code",
   "execution_count": 1,
   "id": "8cce2447",
   "metadata": {},
   "outputs": [
    {
     "name": "stdout",
     "output_type": "stream",
     "text": [
      "8\n"
     ]
    }
   ],
   "source": [
    "s = 'welcome to my world'\n",
    "q = s.find('to')\n",
    "print(q)"
   ]
  },
  {
   "cell_type": "code",
   "execution_count": 11,
   "id": "8a1f8f8a",
   "metadata": {},
   "outputs": [
    {
     "name": "stdout",
     "output_type": "stream",
     "text": [
      "-1\n"
     ]
    }
   ],
   "source": [
    "s = 'welcome to data science'\n",
    "q = s.find('133456')\n",
    "print(q)"
   ]
  },
  {
   "cell_type": "markdown",
   "id": "877f0cf0",
   "metadata": {},
   "source": [
    "# printing tricks"
   ]
  },
  {
   "cell_type": "code",
   "execution_count": 16,
   "id": "771bd0d1",
   "metadata": {},
   "outputs": [
    {
     "name": "stdout",
     "output_type": "stream",
     "text": [
      "apple\n",
      "mango\n",
      "orange\n"
     ]
    }
   ],
   "source": [
    "#\\n is use to create a new line\n",
    "\n",
    "print('apple\\nmango\\norange')"
   ]
  },
  {
   "cell_type": "code",
   "execution_count": 17,
   "id": "a14242eb",
   "metadata": {},
   "outputs": [
    {
     "name": "stdout",
     "output_type": "stream",
     "text": [
      "apple\tmango\torange\n"
     ]
    }
   ],
   "source": [
    "#\\t is used for tabular space\n",
    "\n",
    "print('apple\\tmango\\torange')"
   ]
  },
  {
   "cell_type": "code",
   "execution_count": 19,
   "id": "1af1acf0",
   "metadata": {},
   "outputs": [
    {
     "name": "stdout",
     "output_type": "stream",
     "text": [
      "'sagar' \n"
     ]
    }
   ],
   "source": [
    "#\\\n",
    "\n",
    "print('\\'sagar\\' ')"
   ]
  },
  {
   "cell_type": "code",
   "execution_count": 20,
   "id": "f9c85df1",
   "metadata": {},
   "outputs": [
    {
     "name": "stdout",
     "output_type": "stream",
     "text": [
      "\"sagar\" \n"
     ]
    }
   ],
   "source": [
    "print(\"\\\"sagar\\\" \")"
   ]
  },
  {
   "cell_type": "code",
   "execution_count": 21,
   "id": "62654c03",
   "metadata": {},
   "outputs": [
    {
     "name": "stdout",
     "output_type": "stream",
     "text": [
      "\\apple\\\n"
     ]
    }
   ],
   "source": [
    "#\\\\\n",
    "\n",
    "print('\\\\apple\\\\')"
   ]
  },
  {
   "cell_type": "code",
   "execution_count": 22,
   "id": "e448e793",
   "metadata": {},
   "outputs": [
    {
     "name": "stdout",
     "output_type": "stream",
     "text": [
      "\\\\apple\\\\\n"
     ]
    }
   ],
   "source": [
    "print('\\\\\\\\apple\\\\\\\\')"
   ]
  },
  {
   "cell_type": "code",
   "execution_count": null,
   "id": "31e60f5e",
   "metadata": {},
   "outputs": [],
   "source": []
  }
 ],
 "metadata": {
  "kernelspec": {
   "display_name": "Python 3 (ipykernel)",
   "language": "python",
   "name": "python3"
  },
  "language_info": {
   "codemirror_mode": {
    "name": "ipython",
    "version": 3
   },
   "file_extension": ".py",
   "mimetype": "text/x-python",
   "name": "python",
   "nbconvert_exporter": "python",
   "pygments_lexer": "ipython3",
   "version": "3.11.5"
  }
 },
 "nbformat": 4,
 "nbformat_minor": 5
}

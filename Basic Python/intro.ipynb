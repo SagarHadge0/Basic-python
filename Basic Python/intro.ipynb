{
 "cells": [
  {
   "cell_type": "code",
   "execution_count": 1,
   "id": "5de8ef9d",
   "metadata": {},
   "outputs": [
    {
     "name": "stdout",
     "output_type": "stream",
     "text": [
      "10\n"
     ]
    }
   ],
   "source": [
    "i = 10\n",
    "print(i)"
   ]
  },
  {
   "cell_type": "markdown",
   "id": "fc3ba8f2",
   "metadata": {},
   "source": [
    "# mathmatical operation"
   ]
  },
  {
   "cell_type": "code",
   "execution_count": 1,
   "id": "179168a0",
   "metadata": {},
   "outputs": [
    {
     "name": "stdout",
     "output_type": "stream",
     "text": [
      "30\n"
     ]
    }
   ],
   "source": [
    "a = 10\n",
    "b = 20\n",
    "\n",
    "c = a + b\n",
    "print(c)"
   ]
  },
  {
   "cell_type": "code",
   "execution_count": 4,
   "id": "d2490cea",
   "metadata": {},
   "outputs": [],
   "source": [
    "# to perfom substraction\n"
   ]
  },
  {
   "cell_type": "code",
   "execution_count": 5,
   "id": "e336de12",
   "metadata": {},
   "outputs": [
    {
     "name": "stdout",
     "output_type": "stream",
     "text": [
      "-10\n"
     ]
    }
   ],
   "source": [
    "a =10\n",
    "b =20\n",
    "\n",
    "c = a - b\n",
    "print(c)"
   ]
  },
  {
   "cell_type": "code",
   "execution_count": 6,
   "id": "f6779623",
   "metadata": {},
   "outputs": [],
   "source": [
    "#perfom all mathmaical operation in single code"
   ]
  },
  {
   "cell_type": "code",
   "execution_count": 2,
   "id": "74df3dc8",
   "metadata": {},
   "outputs": [
    {
     "name": "stdout",
     "output_type": "stream",
     "text": [
      "addition : 30\n",
      "substraction : -10\n",
      "multiply : 200\n",
      "division : 0.5\n"
     ]
    }
   ],
   "source": [
    "a = 10\n",
    "b = 20\n",
    "\n",
    "c = a + b\n",
    "print('addition :',c)\n",
    "\n",
    "d = a - b\n",
    "print ('substraction :',d)\n",
    "\n",
    "e = a * b\n",
    "print ('multiply :', e)\n",
    "\n",
    "f = a / b \n",
    "print ('division :', f)\n",
    "  \n",
    "\n"
   ]
  },
  {
   "cell_type": "markdown",
   "id": "ffe22033",
   "metadata": {},
   "source": [
    "# string"
   ]
  },
  {
   "cell_type": "code",
   "execution_count": 3,
   "id": "d45c5f7c",
   "metadata": {},
   "outputs": [
    {
     "name": "stdout",
     "output_type": "stream",
     "text": [
      "helloworld\n"
     ]
    }
   ],
   "source": [
    "a = 'hello'\n",
    "b = 'world'\n",
    "\n",
    "c = a + b\n",
    "print(c)"
   ]
  },
  {
   "cell_type": "code",
   "execution_count": 9,
   "id": "6af21090",
   "metadata": {},
   "outputs": [
    {
     "name": "stdout",
     "output_type": "stream",
     "text": [
      "hello worldwelcome\n"
     ]
    }
   ],
   "source": [
    "a = 'hello '\n",
    "b = 'world'\n",
    "d = 'welcome'\n",
    "\n",
    "c = a + b + d\n",
    "print(c)"
   ]
  },
  {
   "cell_type": "markdown",
   "id": "267a3a58",
   "metadata": {},
   "source": [
    "# concatination"
   ]
  },
  {
   "cell_type": "code",
   "execution_count": 3,
   "id": "47de85ae",
   "metadata": {},
   "outputs": [
    {
     "name": "stdout",
     "output_type": "stream",
     "text": [
      "hello am sagar\n"
     ]
    }
   ],
   "source": [
    "a ='hello '\n",
    "b = 'am '\n",
    "c = 'sagar'\n",
    "  \n",
    "d = a + b + c\n",
    "print(d)"
   ]
  },
  {
   "cell_type": "markdown",
   "id": "611ca26c",
   "metadata": {},
   "source": [
    "# methods "
   ]
  },
  {
   "cell_type": "code",
   "execution_count": 5,
   "id": "e3902a76",
   "metadata": {},
   "outputs": [
    {
     "name": "stdout",
     "output_type": "stream",
     "text": [
      "Hello am sagar\n"
     ]
    }
   ],
   "source": [
    " s = 'hello Am sagar'\n",
    "cap = s.capitalize()\n",
    "print(cap)"
   ]
  },
  {
   "cell_type": "code",
   "execution_count": 6,
   "id": "9ccd37a1",
   "metadata": {},
   "outputs": [
    {
     "name": "stdout",
     "output_type": "stream",
     "text": [
      "HELLO AM SAGAR\n"
     ]
    }
   ],
   "source": [
    "s = 'hello Am sagar'\n",
    "upper = s.upper()\n",
    "print(upper)"
   ]
  },
  {
   "cell_type": "code",
   "execution_count": 7,
   "id": "1b4fe11c",
   "metadata": {},
   "outputs": [
    {
     "name": "stdout",
     "output_type": "stream",
     "text": [
      "hello am sagar\n"
     ]
    }
   ],
   "source": [
    "s = 'hello Am sagar'\n",
    "lower = s.lower()\n",
    "print(lower)"
   ]
  },
  {
   "cell_type": "code",
   "execution_count": 9,
   "id": "cf45e8ca",
   "metadata": {},
   "outputs": [
    {
     "name": "stdout",
     "output_type": "stream",
     "text": [
      "Hello Am Sagar\n"
     ]
    }
   ],
   "source": [
    "s = 'hello Am sagar'\n",
    "title = s.title()\n",
    "print(title)"
   ]
  },
  {
   "cell_type": "code",
   "execution_count": null,
   "id": "7d7d329d",
   "metadata": {},
   "outputs": [],
   "source": []
  }
 ],
 "metadata": {
  "kernelspec": {
   "display_name": "Python 3 (ipykernel)",
   "language": "python",
   "name": "python3"
  },
  "language_info": {
   "codemirror_mode": {
    "name": "ipython",
    "version": 3
   },
   "file_extension": ".py",
   "mimetype": "text/x-python",
   "name": "python",
   "nbconvert_exporter": "python",
   "pygments_lexer": "ipython3",
   "version": "3.11.5"
  }
 },
 "nbformat": 4,
 "nbformat_minor": 5
}

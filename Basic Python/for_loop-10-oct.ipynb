{
 "cells": [
  {
   "cell_type": "markdown",
   "id": "18d7db19",
   "metadata": {},
   "source": [
    "# for loop\n",
    "## In Python, a for loop is a control flow statement used for iterating over a sequence (such as a list, tuple, string, or range) or other iterable objects. "
   ]
  },
  {
   "cell_type": "code",
   "execution_count": 1,
   "id": "1b76e0bb",
   "metadata": {},
   "outputs": [
    {
     "name": "stdout",
     "output_type": "stream",
     "text": [
      "1\n",
      "2\n",
      "3\n",
      "4\n"
     ]
    }
   ],
   "source": [
    "a = [1,2,3,4]\n",
    "for i in a:\n",
    "    print(i)"
   ]
  },
  {
   "cell_type": "code",
   "execution_count": 3,
   "id": "3a7aecd0",
   "metadata": {},
   "outputs": [
    {
     "name": "stdout",
     "output_type": "stream",
     "text": [
      "apple\n",
      "mango\n",
      "banana\n",
      "oranges\n"
     ]
    }
   ],
   "source": [
    "b = ['apple','mango','banana','oranges']\n",
    "for i in b :\n",
    "    print(i)"
   ]
  },
  {
   "cell_type": "markdown",
   "id": "7edd7d60",
   "metadata": {},
   "source": [
    "# sum of element in list"
   ]
  },
  {
   "cell_type": "code",
   "execution_count": 2,
   "id": "df108750",
   "metadata": {},
   "outputs": [
    {
     "name": "stdout",
     "output_type": "stream",
     "text": [
      "11\n"
     ]
    }
   ],
   "source": [
    "a = [1,2,3,4]\n",
    "s = 1\n",
    "for i in a:\n",
    "    s = s + i\n",
    "print(s)    "
   ]
  },
  {
   "cell_type": "markdown",
   "id": "567f1e70",
   "metadata": {},
   "source": [
    "# concatination of list using for loop"
   ]
  },
  {
   "cell_type": "code",
   "execution_count": 3,
   "id": "0c8e0fe1",
   "metadata": {},
   "outputs": [
    {
     "name": "stdout",
     "output_type": "stream",
     "text": [
      "HiiAmNotRobot\n"
     ]
    }
   ],
   "source": [
    "a = ['Hi','i','Am','Not','Robot']\n",
    "b = ''\n",
    "for i in a:\n",
    "    b = b + i\n",
    "print(b)    "
   ]
  },
  {
   "cell_type": "markdown",
   "id": "d97e0859",
   "metadata": {},
   "source": [
    "# Range method"
   ]
  },
  {
   "cell_type": "code",
   "execution_count": 7,
   "id": "b0630760",
   "metadata": {},
   "outputs": [
    {
     "name": "stdout",
     "output_type": "stream",
     "text": [
      "0 1\n",
      "1 2\n",
      "2 3\n",
      "3 4\n",
      "4 5\n",
      "5 6\n",
      "6 7\n",
      "7 8\n",
      "8 9\n"
     ]
    }
   ],
   "source": [
    "a = [1,2,3,4,5,6,7,8,9]\n",
    "for i in range(0, len(a)):\n",
    "    print(i,a[i])"
   ]
  },
  {
   "cell_type": "code",
   "execution_count": 1,
   "id": "92f9a496",
   "metadata": {},
   "outputs": [
    {
     "name": "stdout",
     "output_type": "stream",
     "text": [
      "0 1\n",
      "1 2\n",
      "2 3\n",
      "3 4\n",
      "4 5\n",
      "5 6\n",
      "6 7\n",
      "7 8\n",
      "8 9\n",
      "9 10\n",
      "10 11\n",
      "11 12\n"
     ]
    }
   ],
   "source": [
    "a = [1,2,3,4,5,6,7,8,9,10,11,12]\n",
    "for i in range(0 , len(a)):\n",
    "    print(i,a[i])"
   ]
  },
  {
   "cell_type": "code",
   "execution_count": 4,
   "id": "ee37e63a",
   "metadata": {},
   "outputs": [
    {
     "name": "stdout",
     "output_type": "stream",
     "text": [
      "0 1\n",
      "1 2\n",
      "2 3\n",
      "3 4\n",
      "4 5\n",
      "5 6\n",
      "6 7\n",
      "7 8\n",
      "8 9\n",
      "9 10\n",
      "10 11\n",
      "11 12\n"
     ]
    }
   ],
   "source": [
    "a = 1,2,3,4,5,6,7,8,9,10,11,12\n",
    "for i in range (0 , len(a)):\n",
    "    print(i,a[i])"
   ]
  },
  {
   "cell_type": "markdown",
   "id": "a910d94b",
   "metadata": {},
   "source": [
    "# Break statement"
   ]
  },
  {
   "cell_type": "code",
   "execution_count": 10,
   "id": "e7120a67",
   "metadata": {},
   "outputs": [
    {
     "name": "stdout",
     "output_type": "stream",
     "text": [
      "1\n",
      "2\n",
      "3\n",
      "4\n",
      "5\n"
     ]
    }
   ],
   "source": [
    "a = [1,2,3,4,5,6,7,8,9]\n",
    "for i in a:\n",
    "    if i == 6:\n",
    "        break\n",
    "    print(i)    \n",
    "    "
   ]
  },
  {
   "cell_type": "code",
   "execution_count": 5,
   "id": "7ec01f94",
   "metadata": {},
   "outputs": [
    {
     "name": "stdout",
     "output_type": "stream",
     "text": [
      "1\n",
      "2\n",
      "3\n",
      "4\n",
      "5\n",
      "6\n"
     ]
    }
   ],
   "source": [
    "a = [1,2,3,4,5,6,7,8,9]\n",
    "for i in a:\n",
    "    if i == 7:\n",
    "        break\n",
    "    print(i)    "
   ]
  },
  {
   "cell_type": "code",
   "execution_count": 5,
   "id": "a513ea6b",
   "metadata": {},
   "outputs": [
    {
     "name": "stdout",
     "output_type": "stream",
     "text": [
      "1\n",
      "2\n",
      "3\n",
      "4\n",
      "5\n",
      "6\n",
      "7\n"
     ]
    }
   ],
   "source": [
    "a = [1,2,3,4,5,6,7,8,9.10,11,12,13]\n",
    "for i in a:\n",
    "    if i == 8:\n",
    "        break\n",
    "    print(i)"
   ]
  },
  {
   "cell_type": "markdown",
   "id": "c606f7ce",
   "metadata": {},
   "source": [
    "# Contineue statement"
   ]
  },
  {
   "cell_type": "code",
   "execution_count": 2,
   "id": "04c39102",
   "metadata": {},
   "outputs": [],
   "source": [
    "a = [1,2,3,5,66,45,88,123]\n",
    "def first_greater(first):\n",
    "    for i in first:\n",
    "        if i < 36:\n",
    "            contineue\n",
    "            "
   ]
  },
  {
   "cell_type": "code",
   "execution_count": 18,
   "id": "3eb31ba4",
   "metadata": {},
   "outputs": [
    {
     "name": "stdout",
     "output_type": "stream",
     "text": [
      "1\n",
      "2\n",
      "3\n",
      "4\n",
      "5\n"
     ]
    }
   ],
   "source": [
    "a = [1,2,3,4,5,6,7,8,9,10,11,12,13]\n",
    "for i in a:\n",
    "    if i == 6:\n",
    "        break\n",
    "    print(i)"
   ]
  },
  {
   "cell_type": "code",
   "execution_count": null,
   "id": "0f0396eb",
   "metadata": {},
   "outputs": [],
   "source": []
  }
 ],
 "metadata": {
  "kernelspec": {
   "display_name": "Python 3 (ipykernel)",
   "language": "python",
   "name": "python3"
  },
  "language_info": {
   "codemirror_mode": {
    "name": "ipython",
    "version": 3
   },
   "file_extension": ".py",
   "mimetype": "text/x-python",
   "name": "python",
   "nbconvert_exporter": "python",
   "pygments_lexer": "ipython3",
   "version": "3.11.5"
  }
 },
 "nbformat": 4,
 "nbformat_minor": 5
}

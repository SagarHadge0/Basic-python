{
 "cells": [
  {
   "cell_type": "code",
   "execution_count": 1,
   "id": "88503911",
   "metadata": {},
   "outputs": [
    {
     "name": "stdout",
     "output_type": "stream",
     "text": [
      "x= 10\n"
     ]
    }
   ],
   "source": [
    "def a1():\n",
    "    x = 10\n",
    "    \n",
    "    def a2():\n",
    "        x = 4\n",
    "    a2()\n",
    "    print(\"x=\",x)\n",
    "    \n",
    "a1()    "
   ]
  },
  {
   "cell_type": "code",
   "execution_count": 3,
   "id": "c1bb51a0",
   "metadata": {},
   "outputs": [
    {
     "name": "stdout",
     "output_type": "stream",
     "text": [
      "x = 4\n"
     ]
    }
   ],
   "source": [
    "def a1():\n",
    "    x = 10\n",
    "    def a2():\n",
    "        nonlocal x\n",
    "        x = 4\n",
    "    a2()\n",
    "    print('x =',x)\n",
    "    \n",
    "a1()    "
   ]
  },
  {
   "cell_type": "markdown",
   "id": "f064ce80",
   "metadata": {},
   "source": [
    "# Pass statement\n"
   ]
  },
  {
   "cell_type": "code",
   "execution_count": 14,
   "id": "ac001923",
   "metadata": {},
   "outputs": [],
   "source": [
    "def a1():\n",
    "    pass\n",
    "    #dhbhhkdk\n",
    "    a1()\n",
    "def a2():\n",
    "    #''''''\n",
    "    a2()"
   ]
  },
  {
   "cell_type": "markdown",
   "id": "d3811065",
   "metadata": {},
   "source": [
    "# Raw input/ input\n"
   ]
  },
  {
   "cell_type": "code",
   "execution_count": null,
   "id": "b5abc05c",
   "metadata": {},
   "outputs": [],
   "source": [
    "a = input(\"enter your Username..\")\n",
    "print('hello.....',a,'Enter your password:-')\n",
    "b = input('Enter your password:-')\n",
    "print('Yehhh..Login succseful:-')"
   ]
  },
  {
   "cell_type": "code",
   "execution_count": null,
   "id": "fd0e5c67",
   "metadata": {},
   "outputs": [],
   "source": [
    "a =input(\"what is your name..??\")\n",
    "print(\"hey..whatsup\",a,)\n",
    "b = input('what is your age..')\n",
    "print('now your eligible to driving a car..')\n",
    "c = input('you have your driving licence number')\n",
    "print('now you can goo...')"
   ]
  },
  {
   "cell_type": "code",
   "execution_count": null,
   "id": "db487cb3",
   "metadata": {},
   "outputs": [],
   "source": []
  }
 ],
 "metadata": {
  "kernelspec": {
   "display_name": "Python 3 (ipykernel)",
   "language": "python",
   "name": "python3"
  },
  "language_info": {
   "codemirror_mode": {
    "name": "ipython",
    "version": 3
   },
   "file_extension": ".py",
   "mimetype": "text/x-python",
   "name": "python",
   "nbconvert_exporter": "python",
   "pygments_lexer": "ipython3",
   "version": "3.11.5"
  }
 },
 "nbformat": 4,
 "nbformat_minor": 5
}

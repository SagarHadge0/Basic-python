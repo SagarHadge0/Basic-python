{
 "cells": [
  {
   "cell_type": "code",
   "execution_count": 1,
   "id": "084fc05c",
   "metadata": {},
   "outputs": [
    {
     "name": "stdout",
     "output_type": "stream",
     "text": [
      "[1, 2, 3, 4, 5, 6, 7, 8, 9]\n"
     ]
    }
   ],
   "source": [
    "p = [1,2,3,4,5,6,7,8,9]\n",
    "print(p)"
   ]
  },
  {
   "cell_type": "code",
   "execution_count": 2,
   "id": "5cb5d05d",
   "metadata": {},
   "outputs": [
    {
     "data": {
      "text/plain": [
       "[1, 2, 3, 4, 5, 6, 7, 8, 9]"
      ]
     },
     "execution_count": 2,
     "metadata": {},
     "output_type": "execute_result"
    }
   ],
   "source": [
    "p = [1,2,3,4,5,6,7,8,9]\n",
    "p"
   ]
  },
  {
   "cell_type": "code",
   "execution_count": 4,
   "id": "dd29a396",
   "metadata": {},
   "outputs": [
    {
     "data": {
      "text/plain": [
       "[]"
      ]
     },
     "execution_count": 4,
     "metadata": {},
     "output_type": "execute_result"
    }
   ],
   "source": [
    "p=[]\n",
    "p"
   ]
  },
  {
   "cell_type": "code",
   "execution_count": 5,
   "id": "64d39a85",
   "metadata": {},
   "outputs": [],
   "source": [
    "#to accsess list of element"
   ]
  },
  {
   "cell_type": "code",
   "execution_count": 6,
   "id": "2588d5ca",
   "metadata": {},
   "outputs": [
    {
     "data": {
      "text/plain": [
       "3"
      ]
     },
     "execution_count": 6,
     "metadata": {},
     "output_type": "execute_result"
    }
   ],
   "source": [
    "p =[1,2,3,4,5,6]\n",
    "p[2]"
   ]
  },
  {
   "cell_type": "code",
   "execution_count": 7,
   "id": "f409ce15",
   "metadata": {},
   "outputs": [],
   "source": [
    "#to accsess range of element"
   ]
  },
  {
   "cell_type": "code",
   "execution_count": 8,
   "id": "131e2c82",
   "metadata": {},
   "outputs": [
    {
     "data": {
      "text/plain": [
       "[1, 2, 3, 4, 5]"
      ]
     },
     "execution_count": 8,
     "metadata": {},
     "output_type": "execute_result"
    }
   ],
   "source": [
    "p = [1,2,3,4,5,6]\n",
    "p[0:5]\n"
   ]
  },
  {
   "cell_type": "code",
   "execution_count": 9,
   "id": "6e492774",
   "metadata": {},
   "outputs": [],
   "source": [
    "#hetrogeneose list accsesing"
   ]
  },
  {
   "cell_type": "code",
   "execution_count": 10,
   "id": "e21853d0",
   "metadata": {},
   "outputs": [
    {
     "data": {
      "text/plain": [
       "'sagar'"
      ]
     },
     "execution_count": 10,
     "metadata": {},
     "output_type": "execute_result"
    }
   ],
   "source": [
    "p = [1,2,3,4,'sagar','chetan']\n",
    "p[4]"
   ]
  },
  {
   "cell_type": "code",
   "execution_count": 11,
   "id": "c621b9cc",
   "metadata": {},
   "outputs": [],
   "source": [
    "#hetrogeneos list"
   ]
  },
  {
   "cell_type": "code",
   "execution_count": 13,
   "id": "e51f54a7",
   "metadata": {},
   "outputs": [
    {
     "data": {
      "text/plain": [
       "[1, 2, 3, 4, 'sagar', 'chetan']"
      ]
     },
     "execution_count": 13,
     "metadata": {},
     "output_type": "execute_result"
    }
   ],
   "source": [
    "p = [1,2,3,4,'sagar','chetan']\n",
    "p"
   ]
  },
  {
   "cell_type": "markdown",
   "id": "4d4d17aa",
   "metadata": {},
   "source": [
    "# list of string"
   ]
  },
  {
   "cell_type": "code",
   "execution_count": 14,
   "id": "a541d60e",
   "metadata": {},
   "outputs": [
    {
     "name": "stdout",
     "output_type": "stream",
     "text": [
      "list of string :- ['ab', 'cd', 'ef', 'gh']\n"
     ]
    }
   ],
   "source": [
    "a =['ab','cd','ef','gh']\n",
    "print('list of string :-',a)"
   ]
  },
  {
   "cell_type": "code",
   "execution_count": 15,
   "id": "bcc50c6e",
   "metadata": {},
   "outputs": [],
   "source": [
    "#to add element"
   ]
  },
  {
   "cell_type": "code",
   "execution_count": 5,
   "id": "bedae1b1",
   "metadata": {},
   "outputs": [
    {
     "name": "stdout",
     "output_type": "stream",
     "text": [
      "['ab', 'cd', 'ef', 'gh', 'xy']\n"
     ]
    }
   ],
   "source": [
    "a =['ab','cd','ef','gh']\n",
    "a.append('xy')\n",
    "print(a)\n"
   ]
  },
  {
   "cell_type": "code",
   "execution_count": 19,
   "id": "bd8e88ec",
   "metadata": {},
   "outputs": [],
   "source": [
    "#to check length"
   ]
  },
  {
   "cell_type": "code",
   "execution_count": 20,
   "id": "de74f455",
   "metadata": {},
   "outputs": [
    {
     "data": {
      "text/plain": [
       "4"
      ]
     },
     "execution_count": 20,
     "metadata": {},
     "output_type": "execute_result"
    }
   ],
   "source": [
    "a =['ab','cd','ef','gh']\n",
    "len(a)"
   ]
  },
  {
   "cell_type": "code",
   "execution_count": 21,
   "id": "6fb7506c",
   "metadata": {},
   "outputs": [],
   "source": [
    "#accsessing last element"
   ]
  },
  {
   "cell_type": "code",
   "execution_count": 22,
   "id": "8986c073",
   "metadata": {},
   "outputs": [
    {
     "name": "stdout",
     "output_type": "stream",
     "text": [
      "acsessing last element of list :- gh\n"
     ]
    }
   ],
   "source": [
    "a =['ab','cd','ef','gh']\n",
    "print('acsessing last element of list :-',a[3])"
   ]
  },
  {
   "cell_type": "code",
   "execution_count": 23,
   "id": "a08de3ac",
   "metadata": {},
   "outputs": [],
   "source": [
    "#accsessing last element in reverse"
   ]
  },
  {
   "cell_type": "code",
   "execution_count": 2,
   "id": "c8366ab6",
   "metadata": {},
   "outputs": [
    {
     "name": "stdout",
     "output_type": "stream",
     "text": [
      "list of string :- ab\n"
     ]
    }
   ],
   "source": [
    "a =['ab','cd','ef','gh']\n",
    "print('list of string :-',a[-4])"
   ]
  },
  {
   "cell_type": "code",
   "execution_count": null,
   "id": "190c008e",
   "metadata": {},
   "outputs": [],
   "source": []
  }
 ],
 "metadata": {
  "kernelspec": {
   "display_name": "Python 3 (ipykernel)",
   "language": "python",
   "name": "python3"
  },
  "language_info": {
   "codemirror_mode": {
    "name": "ipython",
    "version": 3
   },
   "file_extension": ".py",
   "mimetype": "text/x-python",
   "name": "python",
   "nbconvert_exporter": "python",
   "pygments_lexer": "ipython3",
   "version": "3.11.5"
  }
 },
 "nbformat": 4,
 "nbformat_minor": 5
}

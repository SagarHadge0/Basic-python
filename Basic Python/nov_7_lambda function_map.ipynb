{
 "cells": [
  {
   "cell_type": "code",
   "execution_count": 2,
   "id": "a053690f",
   "metadata": {},
   "outputs": [
    {
     "name": "stdout",
     "output_type": "stream",
     "text": [
      "[1, 4, 9, 16, 25]\n",
      "[1, 4, 9, 16, 25]\n"
     ]
    }
   ],
   "source": [
    "#with map function\n",
    "\n",
    "def sqr(x):\n",
    "    return x*x\n",
    "\n",
    "l = [1,2,3,4,5]\n",
    "print(list(map(sqr,l)))\n",
    "\n",
    "\n",
    "#with lambda function\n",
    "\n",
    "print(list(map(lambda x:x*x,l)))"
   ]
  },
  {
   "cell_type": "markdown",
   "id": "bf054bc4",
   "metadata": {},
   "source": [
    "# Filter()"
   ]
  },
  {
   "cell_type": "code",
   "execution_count": 4,
   "id": "eebe7b60",
   "metadata": {},
   "outputs": [
    {
     "name": "stdout",
     "output_type": "stream",
     "text": [
      "[1, 3, 5, 7]\n"
     ]
    }
   ],
   "source": [
    "#filter odd numbers\n",
    "\n",
    "l = [1,2,3,4,5,6,7,8]\n",
    "p = (filter(lambda x:x%2!=0 , l))\n",
    "print(list(p))\n",
    " \n",
    "    "
   ]
  },
  {
   "cell_type": "code",
   "execution_count": 5,
   "id": "e3b06740",
   "metadata": {},
   "outputs": [
    {
     "name": "stdout",
     "output_type": "stream",
     "text": [
      "[2, 4, 6, 8]\n"
     ]
    }
   ],
   "source": [
    "#filter even numbers\n",
    "\n",
    "l = [1,2,3,4,5,6,7,8]\n",
    "p = (filter(lambda x:x%2==0,l))\n",
    "print(list(p))"
   ]
  },
  {
   "cell_type": "code",
   "execution_count": 7,
   "id": "9f107ded",
   "metadata": {},
   "outputs": [
    {
     "name": "stdout",
     "output_type": "stream",
     "text": [
      "[1, 3, 5, 7]\n"
     ]
    }
   ],
   "source": [
    "#anather example\n",
    "\n",
    "def is_odd(x):\n",
    "    return x%2!=0\n",
    "\n",
    "l = [1,2,3,4,5,6,7,8]\n",
    "print(list(filter(is_odd,l)))"
   ]
  },
  {
   "cell_type": "markdown",
   "id": "4f9a0e58",
   "metadata": {},
   "source": [
    "# Reduce"
   ]
  },
  {
   "cell_type": "code",
   "execution_count": 1,
   "id": "cb8fce0e",
   "metadata": {},
   "outputs": [
    {
     "name": "stdout",
     "output_type": "stream",
     "text": [
      "24\n"
     ]
    }
   ],
   "source": [
    "from functools import reduce\n",
    "p = (reduce(lambda x,y:x*y,[1,2,3,4]))\n",
    "print(p)"
   ]
  },
  {
   "cell_type": "code",
   "execution_count": 26,
   "id": "7ae3ad2c",
   "metadata": {},
   "outputs": [
    {
     "name": "stdout",
     "output_type": "stream",
     "text": [
      "*****\n",
      "****\n",
      "***\n",
      "**\n",
      "*\n"
     ]
    }
   ],
   "source": [
    "n = 5 \n",
    "for i in range(n):\n",
    "    for j in range(i,n):\n",
    "        print('*',end='')\n",
    "    print()    "
   ]
  },
  {
   "cell_type": "markdown",
   "id": "4da2dd72",
   "metadata": {},
   "source": [
    "#### "
   ]
  }
 ],
 "metadata": {
  "kernelspec": {
   "display_name": "Python 3 (ipykernel)",
   "language": "python",
   "name": "python3"
  },
  "language_info": {
   "codemirror_mode": {
    "name": "ipython",
    "version": 3
   },
   "file_extension": ".py",
   "mimetype": "text/x-python",
   "name": "python",
   "nbconvert_exporter": "python",
   "pygments_lexer": "ipython3",
   "version": "3.11.5"
  }
 },
 "nbformat": 4,
 "nbformat_minor": 5
}

{
 "cells": [
  {
   "cell_type": "markdown",
   "id": "94e13a0c",
   "metadata": {},
   "source": [
    " # prints only unique value"
   ]
  },
  {
   "cell_type": "code",
   "execution_count": 2,
   "id": "a5a82f58",
   "metadata": {},
   "outputs": [
    {
     "name": "stdout",
     "output_type": "stream",
     "text": [
      "{1, 2, 3, 4, 5, 6, 7, 8}\n"
     ]
    }
   ],
   "source": [
    "a = {1,2,3,3,4,5,6,7,8,4,5,6,4,5,}\n",
    "print(a)"
   ]
  },
  {
   "cell_type": "code",
   "execution_count": 3,
   "id": "52d52f51",
   "metadata": {},
   "outputs": [
    {
     "name": "stdout",
     "output_type": "stream",
     "text": [
      "{'ef', 'ab', 'cd'}\n"
     ]
    }
   ],
   "source": [
    "a = {'ab','cd','ef','cd'}\n",
    "print(a)"
   ]
  },
  {
   "cell_type": "markdown",
   "id": "8f9f632c",
   "metadata": {},
   "source": [
    "# set relations"
   ]
  },
  {
   "cell_type": "code",
   "execution_count": 4,
   "id": "887fec6d",
   "metadata": {},
   "outputs": [
    {
     "name": "stdout",
     "output_type": "stream",
     "text": [
      "True\n",
      "False\n"
     ]
    }
   ],
   "source": [
    "a = {1,2,3,4,5,6,7} #superset\n",
    "b = {2,3}           #subset\n",
    "print(a > b)\n",
    "print(b > a)"
   ]
  },
  {
   "cell_type": "code",
   "execution_count": 6,
   "id": "6b497b50",
   "metadata": {},
   "outputs": [
    {
     "name": "stdout",
     "output_type": "stream",
     "text": [
      "True\n",
      "False\n"
     ]
    }
   ],
   "source": [
    "a = {1,2,3,4,5,6,7}\n",
    "b = {2,3}    \n",
    "print(a.issuperset(b))\n",
    "print(b.issuperset(a))"
   ]
  },
  {
   "cell_type": "code",
   "execution_count": 7,
   "id": "dd9f35dc",
   "metadata": {},
   "outputs": [
    {
     "name": "stdout",
     "output_type": "stream",
     "text": [
      "False\n",
      "True\n"
     ]
    }
   ],
   "source": [
    "a = {1,2,3,4,5,6,7} #superset\n",
    "b = {2,3}    \n",
    "print(a.issubset(b))\n",
    "print(b.issubset(a))"
   ]
  },
  {
   "cell_type": "markdown",
   "id": "ce286e2f",
   "metadata": {},
   "source": [
    "# Union"
   ]
  },
  {
   "cell_type": "code",
   "execution_count": 8,
   "id": "a73c747d",
   "metadata": {},
   "outputs": [
    {
     "name": "stdout",
     "output_type": "stream",
     "text": [
      "{1, 2, 3, 4, 5, 6, 7, 8, 9}\n",
      "{1, 2, 3, 4, 5, 6, 7, 8, 9}\n"
     ]
    }
   ],
   "source": [
    "s1 ={1,2,3,4,5,6,7,8,9,4,5}\n",
    "s2 ={2,3,4,5}\n",
    "print(s1.union(s2))\n",
    "print(s2.union(s1))\n"
   ]
  },
  {
   "cell_type": "markdown",
   "id": "6cf9e5d1",
   "metadata": {},
   "source": [
    "# Intersection"
   ]
  },
  {
   "cell_type": "code",
   "execution_count": 9,
   "id": "e292f96e",
   "metadata": {},
   "outputs": [
    {
     "name": "stdout",
     "output_type": "stream",
     "text": [
      "{2, 3, 4, 5}\n",
      "{2, 3, 4, 5}\n"
     ]
    }
   ],
   "source": [
    "s1 ={1,2,3,4,5,6,7,8,9,4,5}\n",
    "s2 ={2,3,4,5}\n",
    "print(s1.intersection(s2))\n",
    "print(s2.intersection(s1))"
   ]
  },
  {
   "cell_type": "markdown",
   "id": "8cc4b649",
   "metadata": {},
   "source": [
    "# set difference"
   ]
  },
  {
   "cell_type": "code",
   "execution_count": 10,
   "id": "255e84b0",
   "metadata": {},
   "outputs": [],
   "source": [
    "#remove common numbers"
   ]
  },
  {
   "cell_type": "code",
   "execution_count": null,
   "id": "74d2076b",
   "metadata": {},
   "outputs": [],
   "source": [
    "s1 = {1,2,3,4,5,6,10,11}\n",
    "s2 = {2,3,4,5,7,8}\n",
    "\n",
    "s3 "
   ]
  }
 ],
 "metadata": {
  "kernelspec": {
   "display_name": "Python 3 (ipykernel)",
   "language": "python",
   "name": "python3"
  },
  "language_info": {
   "codemirror_mode": {
    "name": "ipython",
    "version": 3
   },
   "file_extension": ".py",
   "mimetype": "text/x-python",
   "name": "python",
   "nbconvert_exporter": "python",
   "pygments_lexer": "ipython3",
   "version": "3.11.5"
  }
 },
 "nbformat": 4,
 "nbformat_minor": 5
}

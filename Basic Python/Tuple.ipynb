{
 "cells": [
  {
   "cell_type": "code",
   "execution_count": 1,
   "id": "00d808fb",
   "metadata": {},
   "outputs": [],
   "source": [
    "#Tuple are used to store multiple items in single variable\n",
    "# tuple is collection which is ordered and unchangeble"
   ]
  },
  {
   "cell_type": "code",
   "execution_count": 2,
   "id": "0b6af9e4",
   "metadata": {},
   "outputs": [
    {
     "name": "stdout",
     "output_type": "stream",
     "text": [
      "4\n"
     ]
    }
   ],
   "source": [
    "#combination of strings and numbers\n",
    "a = (1,2,'apple','orange')\n",
    "print(len(a))"
   ]
  },
  {
   "cell_type": "code",
   "execution_count": 3,
   "id": "e1a2f119",
   "metadata": {},
   "outputs": [
    {
     "name": "stdout",
     "output_type": "stream",
     "text": [
      "1 apple\n"
     ]
    }
   ],
   "source": [
    "#accesing element\n",
    "\n",
    "a = (1,2,'apple','otrange')\n",
    "print(a[0],a[2])"
   ]
  },
  {
   "cell_type": "code",
   "execution_count": 4,
   "id": "405196f3",
   "metadata": {},
   "outputs": [
    {
     "name": "stdout",
     "output_type": "stream",
     "text": [
      "(1, 2, 'apple')\n"
     ]
    }
   ],
   "source": [
    "#acssesing range of element\n",
    "a = (1,2,'apple','orange')\n",
    "print(a[0:3])"
   ]
  },
  {
   "cell_type": "code",
   "execution_count": 5,
   "id": "569714cf",
   "metadata": {},
   "outputs": [
    {
     "name": "stdout",
     "output_type": "stream",
     "text": [
      "maximum is :- 7\n",
      "minimum is:- 1\n"
     ]
    }
   ],
   "source": [
    "#max and min\n",
    "a = (1,2,3,4,5,6,7)\n",
    "print('maximum is :-',max(a))\n",
    "\n",
    "print('minimum is:-',min(a))"
   ]
  },
  {
   "cell_type": "code",
   "execution_count": 6,
   "id": "90704744",
   "metadata": {},
   "outputs": [
    {
     "name": "stdout",
     "output_type": "stream",
     "text": [
      "4\n"
     ]
    }
   ],
   "source": [
    "#indexing\n",
    "a =(1,2,3,4,5,6)\n",
    "print(a.index(5))"
   ]
  },
  {
   "cell_type": "code",
   "execution_count": 9,
   "id": "cc9ed5ea",
   "metadata": {},
   "outputs": [
    {
     "name": "stdout",
     "output_type": "stream",
     "text": [
      "2\n"
     ]
    }
   ],
   "source": [
    "#counting\n",
    "a = (1,2,2,33,4,4,5,6,8,9,68,8,8,9,90,)\n",
    "print(a.count(4))"
   ]
  },
  {
   "cell_type": "code",
   "execution_count": 10,
   "id": "d8a9eb3a",
   "metadata": {},
   "outputs": [
    {
     "name": "stdout",
     "output_type": "stream",
     "text": [
      "list:- [1, 2, 3, 4, 5]\n",
      "tuple:- (1, 2, 3, 4, 5)\n"
     ]
    }
   ],
   "source": [
    "#relation1 between tuple and list\n",
    "a =[1,2,3,4,5]\n",
    "print('list:-',a)\n",
    "\n",
    "q = tuple(a)\n",
    "print('tuple:-',q)"
   ]
  },
  {
   "cell_type": "code",
   "execution_count": 11,
   "id": "38cf1212",
   "metadata": {},
   "outputs": [
    {
     "name": "stdout",
     "output_type": "stream",
     "text": [
      "tuple:- (1, 2, 3, 4, 5)\n",
      "list:- [1, 2, 3, 4, 5]\n"
     ]
    }
   ],
   "source": [
    "a = (1,2,3,4,5)\n",
    "print('tuple:-',a)\n",
    "\n",
    "q = list(a)\n",
    "print('list:-',q)"
   ]
  },
  {
   "cell_type": "code",
   "execution_count": 12,
   "id": "eda1eb14",
   "metadata": {},
   "outputs": [
    {
     "name": "stdout",
     "output_type": "stream",
     "text": [
      "dictinary:- {'a': 1, 'b': 2, 'c': 3}\n",
      "tuple:- ('a', 'b', 'c')\n"
     ]
    }
   ],
   "source": [
    "#convert dictinary into tuple\n",
    "a ={'a':1,'b':2,'c':3}\n",
    "print('dictinary:-',a)\n",
    "b = tuple(a)\n",
    "print('tuple:-',b)\n"
   ]
  },
  {
   "cell_type": "markdown",
   "id": "0f1fd72f",
   "metadata": {},
   "source": [
    "# Reverse opration on string"
   ]
  },
  {
   "cell_type": "code",
   "execution_count": 13,
   "id": "91e7ed9d",
   "metadata": {},
   "outputs": [
    {
     "name": "stdout",
     "output_type": "stream",
     "text": [
      "['data', 'science', 'is', 'trending', 'this', 'days']\n"
     ]
    }
   ],
   "source": [
    "a ='data science is trending this days'\n",
    "print(a.split())"
   ]
  },
  {
   "cell_type": "code",
   "execution_count": 14,
   "id": "50b4dc15",
   "metadata": {},
   "outputs": [
    {
     "name": "stdout",
     "output_type": "stream",
     "text": [
      "['days', 'this', 'trending', 'is', 'science', 'data']\n"
     ]
    }
   ],
   "source": [
    "a ='data science is trending this days'\n",
    "print(a.split()[::-1])"
   ]
  },
  {
   "cell_type": "code",
   "execution_count": 15,
   "id": "2c0dd4c7",
   "metadata": {},
   "outputs": [
    {
     "name": "stdout",
     "output_type": "stream",
     "text": [
      "days this trending is science data\n"
     ]
    }
   ],
   "source": [
    "a ='data science is trending this days'\n",
    "print(' '.join(a.split()[::-1]))"
   ]
  },
  {
   "cell_type": "markdown",
   "id": "3097c75a",
   "metadata": {},
   "source": [
    "# passing parameter to function name"
   ]
  },
  {
   "cell_type": "code",
   "execution_count": 1,
   "id": "963c15cb",
   "metadata": {},
   "outputs": [
    {
     "name": "stdout",
     "output_type": "stream",
     "text": [
      "sagar 100\n"
     ]
    }
   ],
   "source": [
    "def records(name,id_no):\n",
    "    print(name,id_no)\n",
    "    \n",
    "records(name='sagar',id_no=100)    "
   ]
  },
  {
   "cell_type": "code",
   "execution_count": null,
   "id": "549f17be",
   "metadata": {},
   "outputs": [],
   "source": []
  }
 ],
 "metadata": {
  "kernelspec": {
   "display_name": "Python 3 (ipykernel)",
   "language": "python",
   "name": "python3"
  },
  "language_info": {
   "codemirror_mode": {
    "name": "ipython",
    "version": 3
   },
   "file_extension": ".py",
   "mimetype": "text/x-python",
   "name": "python",
   "nbconvert_exporter": "python",
   "pygments_lexer": "ipython3",
   "version": "3.11.5"
  }
 },
 "nbformat": 4,
 "nbformat_minor": 5
}

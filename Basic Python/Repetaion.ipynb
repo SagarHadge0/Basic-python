{
 "cells": [
  {
   "cell_type": "markdown",
   "id": "e513de4e",
   "metadata": {},
   "source": [
    "# Repetation"
   ]
  },
  {
   "cell_type": "code",
   "execution_count": 1,
   "id": "62323b76",
   "metadata": {},
   "outputs": [
    {
     "name": "stdout",
     "output_type": "stream",
     "text": [
      "[1, 2, 3, 4, 1, 2, 3, 4, 1, 2, 3, 4, 1, 2, 3, 4]\n"
     ]
    }
   ],
   "source": [
    "l1 = [1,2,3,4]\n",
    "print(l1 * 4)"
   ]
  },
  {
   "cell_type": "code",
   "execution_count": 2,
   "id": "1215a94d",
   "metadata": {},
   "outputs": [
    {
     "name": "stdout",
     "output_type": "stream",
     "text": [
      "[1, 2, 3, 4]\n"
     ]
    }
   ],
   "source": [
    "l1 = [1,2,3,4]\n",
    "print(l1 * 1)"
   ]
  },
  {
   "cell_type": "code",
   "execution_count": 3,
   "id": "18013dc5",
   "metadata": {},
   "outputs": [
    {
     "name": "stdout",
     "output_type": "stream",
     "text": [
      "[]\n"
     ]
    }
   ],
   "source": [
    "l1 = [1,2,3,4]\n",
    "print(l1 * 0)"
   ]
  },
  {
   "cell_type": "code",
   "execution_count": 4,
   "id": "25fada41",
   "metadata": {},
   "outputs": [],
   "source": [
    "#multiply by length"
   ]
  },
  {
   "cell_type": "code",
   "execution_count": 8,
   "id": "9a2ee12f",
   "metadata": {},
   "outputs": [
    {
     "name": "stdout",
     "output_type": "stream",
     "text": [
      "length:- 4\n",
      "4 8 16\n"
     ]
    }
   ],
   "source": [
    "l1 = [1,2,3,4]\n",
    "print('length:-',len(l1))\n",
    "print(len(l1*1),len(l1*2),len(l1*4))"
   ]
  },
  {
   "cell_type": "code",
   "execution_count": 10,
   "id": "802ca336",
   "metadata": {},
   "outputs": [
    {
     "name": "stdout",
     "output_type": "stream",
     "text": [
      "length:- 7\n",
      "7 21 35 49\n"
     ]
    }
   ],
   "source": [
    "l1 = [1,2,3,4,5,6,7]\n",
    "print('length:-',len(l1))\n",
    "print(len(l1*1),len(l1*3),len(l1*5),len(l1*7))"
   ]
  },
  {
   "cell_type": "code",
   "execution_count": 11,
   "id": "e9b5550c",
   "metadata": {},
   "outputs": [],
   "source": [
    "#to find or check the element"
   ]
  },
  {
   "cell_type": "code",
   "execution_count": 12,
   "id": "c2a6e643",
   "metadata": {},
   "outputs": [
    {
     "name": "stdout",
     "output_type": "stream",
     "text": [
      "True\n"
     ]
    }
   ],
   "source": [
    "a = ['apple','mango','banana','oranges']\n",
    "print('mango'in a)"
   ]
  },
  {
   "cell_type": "code",
   "execution_count": 15,
   "id": "4b8fad85",
   "metadata": {},
   "outputs": [
    {
     "name": "stdout",
     "output_type": "stream",
     "text": [
      "False\n"
     ]
    }
   ],
   "source": [
    "a = ['apple','mango','banana','oranges']\n",
    "print('Mango'in a)  #because capital M"
   ]
  },
  {
   "cell_type": "code",
   "execution_count": 16,
   "id": "bc4ce753",
   "metadata": {},
   "outputs": [],
   "source": [
    "# to find or check element"
   ]
  },
  {
   "cell_type": "code",
   "execution_count": 17,
   "id": "c17c07c9",
   "metadata": {},
   "outputs": [
    {
     "name": "stdout",
     "output_type": "stream",
     "text": [
      "False\n"
     ]
    }
   ],
   "source": [
    "a = ['apple','mango','banana','oranges']\n",
    "print('kivi'in a)"
   ]
  },
  {
   "cell_type": "code",
   "execution_count": 18,
   "id": "2b425919",
   "metadata": {},
   "outputs": [],
   "source": [
    "#if_else"
   ]
  },
  {
   "cell_type": "code",
   "execution_count": 2,
   "id": "04abb532",
   "metadata": {},
   "outputs": [
    {
     "ename": "NameError",
     "evalue": "name 'mango' is not defined",
     "output_type": "error",
     "traceback": [
      "\u001b[1;31m---------------------------------------------------------------------------\u001b[0m",
      "\u001b[1;31mNameError\u001b[0m                                 Traceback (most recent call last)",
      "Cell \u001b[1;32mIn[2], line 2\u001b[0m\n\u001b[0;32m      1\u001b[0m a \u001b[38;5;241m=\u001b[39m [\u001b[38;5;124m'\u001b[39m\u001b[38;5;124mapple\u001b[39m\u001b[38;5;124m'\u001b[39m,\u001b[38;5;124m'\u001b[39m\u001b[38;5;124mmango\u001b[39m\u001b[38;5;124m'\u001b[39m,\u001b[38;5;124m'\u001b[39m\u001b[38;5;124moranges\u001b[39m\u001b[38;5;124m'\u001b[39m,\u001b[38;5;124m'\u001b[39m\u001b[38;5;124mbanana\u001b[39m\u001b[38;5;124m'\u001b[39m]\n\u001b[1;32m----> 2\u001b[0m \u001b[38;5;28;01mif\u001b[39;00m mango \u001b[38;5;129;01min\u001b[39;00m a:\n\u001b[0;32m      3\u001b[0m     \u001b[38;5;28mprint\u001b[39m(true)\n\u001b[0;32m      4\u001b[0m \u001b[38;5;28;01melse\u001b[39;00m:\n",
      "\u001b[1;31mNameError\u001b[0m: name 'mango' is not defined"
     ]
    }
   ],
   "source": [
    "a = ['apple','mango','oranges','banana']\n",
    "if mango in a:\n",
    "    print(true)\n",
    "else:\n",
    "    print(false)"
   ]
  },
  {
   "cell_type": "code",
   "execution_count": 2,
   "id": "93d32eaf",
   "metadata": {},
   "outputs": [],
   "source": [
    "#bubble sort"
   ]
  },
  {
   "cell_type": "code",
   "execution_count": 5,
   "id": "10a74e63",
   "metadata": {},
   "outputs": [
    {
     "name": "stdout",
     "output_type": "stream",
     "text": [
      "length of l:- 8\n",
      "before:- [2, 3, 5, 6, 55, 4, 5, 6]\n",
      "after:- [2, 3, 4, 5, 5, 6, 6, 55]\n"
     ]
    }
   ],
   "source": [
    "l = [2,3,5,6,55,4,5,6]\n",
    "i = 0\n",
    "print('length of l:-',len(l))\n",
    "print('before:-',l)\n",
    "\n",
    "while i < len(l):\n",
    "    j = 0\n",
    "    while j<i:\n",
    "        if l[i]<l[j]:\n",
    "            temp = l[i]\n",
    "            l[i]=l[j]\n",
    "            l[j]=temp\n",
    "        j = j + 1\n",
    "    i = i + 1\n",
    "print('after:-',l)    \n",
    "        "
   ]
  },
  {
   "cell_type": "code",
   "execution_count": 1,
   "id": "4ec2e043",
   "metadata": {},
   "outputs": [
    {
     "name": "stdout",
     "output_type": "stream",
     "text": [
      "lenth of l:- 9\n",
      "before:- [2, 5, 7, 8, 9, 5, 44, 7, 8]\n",
      "after:- [2, 5, 5, 7, 7, 8, 8, 9, 44]\n"
     ]
    }
   ],
   "source": [
    "l = [2,5,7,8,9,5,44,7,8]\n",
    "i = 0 \n",
    "print('lenth of l:-',len(l))\n",
    "\n",
    "print('before:-',l)\n",
    "\n",
    "while i < len(l):\n",
    "    j = 0 \n",
    "    while j < i:\n",
    "        if l[i] < l[j]:\n",
    "            \n",
    "            temp = l[i]\n",
    "            l[i] = l[j]\n",
    "            l[j] = temp\n",
    "        j = j + 1\n",
    "    i = i + 1 \n",
    "print('after:-',l)    "
   ]
  },
  {
   "cell_type": "code",
   "execution_count": null,
   "id": "25d8c364",
   "metadata": {},
   "outputs": [],
   "source": []
  }
 ],
 "metadata": {
  "kernelspec": {
   "display_name": "Python 3 (ipykernel)",
   "language": "python",
   "name": "python3"
  },
  "language_info": {
   "codemirror_mode": {
    "name": "ipython",
    "version": 3
   },
   "file_extension": ".py",
   "mimetype": "text/x-python",
   "name": "python",
   "nbconvert_exporter": "python",
   "pygments_lexer": "ipython3",
   "version": "3.11.5"
  }
 },
 "nbformat": 4,
 "nbformat_minor": 5
}

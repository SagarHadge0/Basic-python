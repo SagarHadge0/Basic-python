{
 "cells": [
  {
   "cell_type": "markdown",
   "id": "8b729ad6",
   "metadata": {},
   "source": [
    "# conditional statement with functions"
   ]
  },
  {
   "cell_type": "code",
   "execution_count": 2,
   "id": "ddf336ae",
   "metadata": {},
   "outputs": [
    {
     "name": "stdout",
     "output_type": "stream",
     "text": [
      "z is greatest2\n"
     ]
    }
   ],
   "source": [
    "def print_greatest(x,y,z):\n",
    "    if x > z:\n",
    "        if x > y:\n",
    "            print('x is greatest')\n",
    "        else:\n",
    "            print('z is greatest1')\n",
    "    elif y > z:\n",
    "        print('y is greatest')\n",
    "    else:\n",
    "        print('z is greatest2')\n",
    "        \n",
    "        \n",
    "        \n",
    "        \n",
    "x = 10\n",
    "y = 20\n",
    "z = 50\n",
    "    \n",
    "print_greatest(x,y,z)"
   ]
  },
  {
   "cell_type": "code",
   "execution_count": 17,
   "id": "46df19ee",
   "metadata": {},
   "outputs": [
    {
     "name": "stdout",
     "output_type": "stream",
     "text": [
      "50 is greatest\n"
     ]
    }
   ],
   "source": [
    "def get_greatest(x, y, z):\n",
    "    greatest = -1\n",
    "    if x > z:\n",
    "        if x > y:\n",
    "            greatest = x\n",
    "        else:\n",
    "            greatest = z\n",
    "    elif y > z:        \n",
    "        greatest = y\n",
    "    else:\n",
    "        greatest = z\n",
    "        return greatest\n",
    "    \n",
    "x = 10\n",
    "y = 20\n",
    "z = 50\n",
    "\n",
    "g = get_greatest(x, y, z)\n",
    "print(g,'is greatest')\n",
    "        "
   ]
  },
  {
   "cell_type": "markdown",
   "id": "95242d22",
   "metadata": {},
   "source": [
    "# while loop"
   ]
  },
  {
   "cell_type": "code",
   "execution_count": 20,
   "id": "885c7132",
   "metadata": {},
   "outputs": [
    {
     "name": "stdout",
     "output_type": "stream",
     "text": [
      "0\n",
      "1\n",
      "2\n",
      "3\n",
      "4\n",
      "5\n",
      "6\n",
      "7\n",
      "8\n",
      "9\n",
      "done\n"
     ]
    }
   ],
   "source": [
    "i = 0\n",
    "while i < 10:\n",
    "    print(i)\n",
    "    i = i + 1\n",
    "\n",
    "print('done')    "
   ]
  },
  {
   "cell_type": "code",
   "execution_count": 24,
   "id": "5ecf71e8",
   "metadata": {},
   "outputs": [
    {
     "name": "stdout",
     "output_type": "stream",
     "text": [
      "i = 0\n",
      "i = 1\n",
      "i = 2\n",
      "i = 3\n",
      "i = 4\n",
      "i = 5\n",
      "i = 6\n",
      "i = 7\n",
      "i = 8\n",
      "i = 9\n",
      "Done\n"
     ]
    }
   ],
   "source": [
    "i = 0\n",
    "while i < 10:\n",
    "    print('i =',i)\n",
    "    i = i + 1\n",
    "    \n",
    "print('Done')    "
   ]
  },
  {
   "cell_type": "markdown",
   "id": "ac4ddf36",
   "metadata": {},
   "source": [
    "# fibonacci series"
   ]
  },
  {
   "cell_type": "code",
   "execution_count": 28,
   "id": "8c329807",
   "metadata": {},
   "outputs": [
    {
     "name": "stdout",
     "output_type": "stream",
     "text": [
      "1\n",
      "1\n",
      "2\n",
      "3\n",
      "5\n",
      "8\n",
      "13\n",
      "21\n"
     ]
    }
   ],
   "source": [
    "def print_fibo(n):\n",
    "    n1 = 1\n",
    "    n2 = 1\n",
    "    i = 0\n",
    "    while i < n:\n",
    "        print(n1)\n",
    "        i = i + 1\n",
    "        temp = n2\n",
    "        n2 = n1 + n2\n",
    "        n1 = temp\n",
    "        \n",
    "print_fibo(8)        \n",
    "    "
   ]
  },
  {
   "cell_type": "code",
   "execution_count": 27,
   "id": "d4261bea",
   "metadata": {},
   "outputs": [
    {
     "name": "stdout",
     "output_type": "stream",
     "text": [
      "1\n",
      "1\n",
      "2\n",
      "3\n",
      "5\n",
      "8\n",
      "13\n",
      "21\n"
     ]
    }
   ],
   "source": [
    "def print_fibo(n):\n",
    "    n1 = 1\n",
    "    n2 = 1\n",
    "    i = 0\n",
    "    while i < n:\n",
    "        print(n1)\n",
    "        i = i + 1\n",
    "        temp = n2\n",
    "        n2 = n1 + n2\n",
    "        n1 = temp\n",
    "        \n",
    "print_fibo(8)  "
   ]
  },
  {
   "cell_type": "code",
   "execution_count": 1,
   "id": "cf485a24",
   "metadata": {},
   "outputs": [
    {
     "name": "stdout",
     "output_type": "stream",
     "text": [
      "1\n",
      "1\n",
      "2\n",
      "3\n",
      "5\n",
      "8\n",
      "13\n",
      "21\n",
      "34\n"
     ]
    }
   ],
   "source": [
    "def print_fibo(n):\n",
    "    n1 = 1\n",
    "    n2 = 1\n",
    "    i = 0\n",
    "    while i < n:\n",
    "        print(n1)\n",
    "        i = i + 1\n",
    "        temp = n2\n",
    "        n2 = n1 + n2\n",
    "        n1 = temp\n",
    "print_fibo(9)        "
   ]
  },
  {
   "cell_type": "code",
   "execution_count": null,
   "id": "1a010bd1",
   "metadata": {},
   "outputs": [],
   "source": [
    "def fibo(n):\n",
    "    n1 = 1\n",
    "    n2 = 1\n",
    "    i = 0\n",
    "    while i < n:\n",
    "        print(n1)\n",
    "        i = i + 1\n",
    "        "
   ]
  }
 ],
 "metadata": {
  "kernelspec": {
   "display_name": "Python 3 (ipykernel)",
   "language": "python",
   "name": "python3"
  },
  "language_info": {
   "codemirror_mode": {
    "name": "ipython",
    "version": 3
   },
   "file_extension": ".py",
   "mimetype": "text/x-python",
   "name": "python",
   "nbconvert_exporter": "python",
   "pygments_lexer": "ipython3",
   "version": "3.11.5"
  }
 },
 "nbformat": 4,
 "nbformat_minor": 5
}

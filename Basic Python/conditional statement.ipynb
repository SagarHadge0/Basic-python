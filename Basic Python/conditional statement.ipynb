{
 "cells": [
  {
   "cell_type": "code",
   "execution_count": 15,
   "id": "8530f503",
   "metadata": {},
   "outputs": [
    {
     "name": "stdout",
     "output_type": "stream",
     "text": [
      "a is less than b\n"
     ]
    }
   ],
   "source": [
    "\n",
    "\n",
    "a = 10\n",
    "b = 20\n",
    "\n",
    "if a > b:\n",
    "   print(\"a is gretter than b\")\n",
    "else:    \n",
    "    print(\"a is less than b\")"
   ]
  },
  {
   "cell_type": "code",
   "execution_count": 22,
   "id": "8e47b2e7",
   "metadata": {},
   "outputs": [
    {
     "name": "stdout",
     "output_type": "stream",
     "text": [
      "x is gretest:- 2000\n",
      "None\n"
     ]
    }
   ],
   "source": [
    "def is_greatest(x,y,z):\n",
    "    if x > z:\n",
    "        if x > y:\n",
    "            print(\"x is gretest:-\",a)\n",
    "        else:\n",
    "            print(\"z is greatest:-\",z)\n",
    "    elif y > z:\n",
    "        print(\"y is greatest:-\",y)\n",
    "    else:\n",
    "        print(\"z is greatest2:-\",z)\n",
    "        \n",
    "        \n",
    "x = 60000\n",
    "y = 9000\n",
    "z = 8000\n",
    "\n",
    "\n",
    "\n",
    "print(is_greatest(x,y,z))        "
   ]
  },
  {
   "cell_type": "code",
   "execution_count": 1,
   "id": "36ec1438",
   "metadata": {},
   "outputs": [
    {
     "name": "stdout",
     "output_type": "stream",
     "text": [
      "a is less than b\n"
     ]
    }
   ],
   "source": [
    "a = 10\n",
    "b = 20\n",
    "\n",
    "if a > b:\n",
    "   print(\"a is gretter than b\")\n",
    "else:    \n",
    "    print(\"a is less than b\")"
   ]
  },
  {
   "cell_type": "code",
   "execution_count": 4,
   "id": "528ab4ad",
   "metadata": {},
   "outputs": [
    {
     "name": "stdout",
     "output_type": "stream",
     "text": [
      "a is less than b 20\n"
     ]
    }
   ],
   "source": [
    "a = 10\n",
    "b = 20\n",
    "\n",
    "if a > b:\n",
    "   print(\"a is gratter than b\",a)\n",
    "else:    \n",
    "    print(\"a is less than b\",b)"
   ]
  },
  {
   "cell_type": "markdown",
   "id": "2a339784",
   "metadata": {},
   "source": [
    "# if_else_nesting"
   ]
  },
  {
   "cell_type": "code",
   "execution_count": 5,
   "id": "1a88d946",
   "metadata": {},
   "outputs": [
    {
     "name": "stdout",
     "output_type": "stream",
     "text": [
      "c is greter2:- 500\n"
     ]
    }
   ],
   "source": [
    "a = 100\n",
    "b = 200\n",
    "c = 500\n",
    " \n",
    "if a > b:\n",
    "    if a > c: \n",
    "        print(\"a is greter\")\n",
    "    else:\n",
    "        print(\"c is greter1\")\n",
    "elif b > c:\n",
    "    print(\"b is greater\")\n",
    "else:\n",
    "    print(\"c is greter2:-\",c)"
   ]
  },
  {
   "cell_type": "markdown",
   "id": "9ad7e41a",
   "metadata": {},
   "source": [
    "# functions"
   ]
  },
  {
   "cell_type": "code",
   "execution_count": 7,
   "id": "9f36a88c",
   "metadata": {},
   "outputs": [
    {
     "name": "stdout",
     "output_type": "stream",
     "text": [
      "15\n",
      "5\n",
      "50\n",
      "2.0\n"
     ]
    }
   ],
   "source": [
    "def add (a,b):\n",
    "    return a + b\n",
    "\n",
    "def sub (a,b):\n",
    "    return a - b\n",
    "def multi (a,b):\n",
    "    return a * b\n",
    "\n",
    "def div (a,b):\n",
    "    return a/b\n",
    "\n",
    "p = 10\n",
    "q = 5\n",
    "\n",
    "r =add(p,q)\n",
    "print(r)\n",
    "\n",
    "s = sub(p,q)\n",
    "print(s)\n",
    "\n",
    "a = multi(p,q)\n",
    "print(a)\n",
    "\n",
    "x = div(p,q)\n",
    "print(x)"
   ]
  },
  {
   "cell_type": "code",
   "execution_count": 1,
   "id": "79aac2f2",
   "metadata": {},
   "outputs": [
    {
     "name": "stdout",
     "output_type": "stream",
     "text": [
      "addition is:- 15\n",
      "substraction is :- 5\n"
     ]
    }
   ],
   "source": [
    "def add (a,b):\n",
    "    return a + b\n",
    "\n",
    "def sub (a,b):\n",
    "    return a - b\n",
    "\n",
    "p = 10\n",
    "q = 5\n",
    "\n",
    "r =add(p,q)\n",
    "print(\"addition is:-\",r)\n",
    "\n",
    "s = sub(p,q)\n",
    "print(\"substraction is :-\",s)"
   ]
  },
  {
   "cell_type": "code",
   "execution_count": 3,
   "id": "ba0f7e53",
   "metadata": {},
   "outputs": [
    {
     "name": "stdout",
     "output_type": "stream",
     "text": [
      "Addition is:- 20\n",
      "Substraction is:- 0\n"
     ]
    }
   ],
   "source": [
    "def add (a,b):\n",
    "    return a + b\n",
    "\n",
    "def sub (a,b):\n",
    "    return a - b\n",
    "\n",
    "p = 10 \n",
    "q = 10\n",
    "\n",
    "r = add(p,q)\n",
    "print('Addition is:-',r)\n",
    "\n",
    "s = sub(p,q)\n",
    "print('Substraction is:-',s)"
   ]
  },
  {
   "cell_type": "code",
   "execution_count": 8,
   "id": "4017d2dc",
   "metadata": {},
   "outputs": [
    {
     "name": "stdout",
     "output_type": "stream",
     "text": [
      "Additon is :- 15\n",
      "substraction is :- 5\n",
      "Multiplication is :- 50\n",
      "division is :- 2.0\n"
     ]
    }
   ],
   "source": [
    "def add (a,b):\n",
    "    return a+b\n",
    "\n",
    "def sub (a,b):\n",
    "    return a - b\n",
    "\n",
    "def multi(a,b):\n",
    "    return a * b\n",
    "\n",
    "def div (a,b):\n",
    "    return a/b\n",
    "\n",
    "p = 10\n",
    "q = 5\n",
    "\n",
    "x = add(p,q)\n",
    "print(\"Additon is :-\",x)\n",
    "\n",
    "y = sub(p,q)\n",
    "print(\"substraction is :-\",y)\n",
    "\n",
    "s = multi(p,q)\n",
    "print(\"Multiplication is :-\",s)\n",
    "\n",
    "b = div(p,q)\n",
    "print(\"division is :-\",b)"
   ]
  },
  {
   "cell_type": "code",
   "execution_count": 8,
   "id": "bd27084b",
   "metadata": {},
   "outputs": [
    {
     "name": "stdout",
     "output_type": "stream",
     "text": [
      "Name: thor\n",
      "Age: 1000\n",
      "Name: captain\n",
      "Age: 100\n"
     ]
    }
   ],
   "source": [
    "def avengers_bio(Name,Age):\n",
    "    print('Name:',Name)\n",
    "    print('Age:',Age)\n",
    "    \n",
    "    \n",
    "n1 = 'thor'\n",
    "a1 =  1000\n",
    "n2 = 'captain'\n",
    "a2 =  100\n",
    "\n",
    "avengers_bio(n1,a1)\n",
    "avengers_bio(n2,a2)"
   ]
  },
  {
   "cell_type": "code",
   "execution_count": 10,
   "id": "898a1e38",
   "metadata": {},
   "outputs": [
    {
     "name": "stdout",
     "output_type": "stream",
     "text": [
      "Name:- thor Age:- 1000\n",
      "Name:- hulk Age:- 100\n"
     ]
    }
   ],
   "source": [
    "def avengers_bio(Name,Age):\n",
    "    print('Name:-',Name,'Age:-',Age)\n",
    "    \n",
    "n1 = 'thor'\n",
    "a2 = 1000\n",
    "n2 = 'hulk'\n",
    "a2 = 100\n",
    "\n",
    "avengers_bio(n1,a1)\n",
    "avengers_bio(n2,a2)\n",
    "    \n",
    "    "
   ]
  },
  {
   "cell_type": "code",
   "execution_count": 14,
   "id": "2b351aa8",
   "metadata": {},
   "outputs": [
    {
     "name": "stdout",
     "output_type": "stream",
     "text": [
      "Name:- thor Age:- 1000 City:- asgurd\n",
      "Name:- iron man Age:- 150 City:- Russia\n"
     ]
    }
   ],
   "source": [
    "def avengers_bio(Name,Age,City):\n",
    "    print('Name:-',Name,'Age:-',Age,'City:-',City)\n",
    "    \n",
    "    \n",
    "n1 = 'thor'\n",
    "a2 =  100\n",
    "c1 = 'asgurd'\n",
    "n2 = 'iron man'\n",
    "a2 =  150\n",
    "c2 = 'Russia'\n",
    "\n",
    "avengers_bio(n1,a1,c1)\n",
    "avengers_bio(n2,a2,c2)"
   ]
  },
  {
   "cell_type": "code",
   "execution_count": 5,
   "id": "460ce4d3",
   "metadata": {},
   "outputs": [
    {
     "name": "stdout",
     "output_type": "stream",
     "text": [
      "Name:- sagar Age:- 21 City:- Bhandara\n",
      "Name:- chetan Age:- 20 City:- Bhandara\n"
     ]
    }
   ],
   "source": [
    "def my_bio(Name,Age,City):\n",
    "    print('Name:-',Name,'Age:-',Age,'City:-',City)\n",
    "    \n",
    "n1 = 'sagar'\n",
    "a1 = 21\n",
    "c1 = 'Bhandara'\n",
    "n2 = 'chetan'\n",
    "a2 =  20\n",
    "c2 = 'Bhandara'\n",
    "\n",
    "my_bio(n1,a1,c1)\n",
    "my_bio(n2,a2,c2)"
   ]
  },
  {
   "cell_type": "code",
   "execution_count": null,
   "id": "4e2ac17a",
   "metadata": {},
   "outputs": [],
   "source": []
  }
 ],
 "metadata": {
  "kernelspec": {
   "display_name": "Python 3 (ipykernel)",
   "language": "python",
   "name": "python3"
  },
  "language_info": {
   "codemirror_mode": {
    "name": "ipython",
    "version": 3
   },
   "file_extension": ".py",
   "mimetype": "text/x-python",
   "name": "python",
   "nbconvert_exporter": "python",
   "pygments_lexer": "ipython3",
   "version": "3.11.5"
  }
 },
 "nbformat": 4,
 "nbformat_minor": 5
}

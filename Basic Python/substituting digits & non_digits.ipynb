{
 "cells": [
  {
   "cell_type": "code",
   "execution_count": 1,
   "id": "c13118a9",
   "metadata": {},
   "outputs": [
    {
     "name": "stdout",
     "output_type": "stream",
     "text": [
      "this is \n"
     ]
    }
   ],
   "source": [
    "#remove numbers\n",
    "import re\n",
    "s = 'this is 12345'\n",
    "p = re.sub('\\d','',s)\n",
    "print(p)"
   ]
  },
  {
   "cell_type": "code",
   "execution_count": 2,
   "id": "c6962727",
   "metadata": {},
   "outputs": [
    {
     "name": "stdout",
     "output_type": "stream",
     "text": [
      "12345\n"
     ]
    }
   ],
   "source": [
    "#remove string\n",
    "import re\n",
    "s = 'this is 12345'\n",
    "p = re.sub('\\D','',s)\n",
    "print(p)"
   ]
  },
  {
   "cell_type": "code",
   "execution_count": 3,
   "id": "4e215b27",
   "metadata": {},
   "outputs": [
    {
     "name": "stdout",
     "output_type": "stream",
     "text": [
      "match found:- abc@d.com\n"
     ]
    }
   ],
   "source": [
    "import re\n",
    "s = 'abc@d.com , a@bd.com , sam1@gmail.com'\n",
    "p = re.search('\\w+@\\w\\.com',s)\n",
    "if p:\n",
    "    print('match found:-',p.group())\n",
    "else:\n",
    "    print('no match...')"
   ]
  },
  {
   "cell_type": "code",
   "execution_count": 4,
   "id": "edaacf5e",
   "metadata": {},
   "outputs": [
    {
     "name": "stdout",
     "output_type": "stream",
     "text": [
      "match found:- abc@d.com\n"
     ]
    }
   ],
   "source": [
    "import re\n",
    "s = 'abc@d.com , a@bd.com , sam1@gmail.com'\n",
    "p = re.search('\\w+@\\w\\.com',s)\n",
    "if p:\n",
    "    print('match found:-',p.group())\n",
    "else:\n",
    "    print('no match...')"
   ]
  },
  {
   "cell_type": "code",
   "execution_count": 3,
   "id": "115477db",
   "metadata": {},
   "outputs": [
    {
     "name": "stdout",
     "output_type": "stream",
     "text": [
      "this is $$$$$\n"
     ]
    }
   ],
   "source": [
    "#substituting and replacing\n",
    "\n",
    "import re\n",
    "s ='this is 12234'\n",
    "p = re.sub('\\d','$',s)\n",
    "print(p)"
   ]
  },
  {
   "cell_type": "code",
   "execution_count": 6,
   "id": "29a136dd",
   "metadata": {},
   "outputs": [
    {
     "name": "stdout",
     "output_type": "stream",
     "text": [
      "$$$$$$$$122345\n"
     ]
    }
   ],
   "source": [
    "import re\n",
    "s = 'this is 122345'\n",
    "p = re.sub('\\D','$',s)\n",
    "print(p)"
   ]
  },
  {
   "cell_type": "code",
   "execution_count": null,
   "id": "538ae2d8",
   "metadata": {},
   "outputs": [],
   "source": []
  }
 ],
 "metadata": {
  "kernelspec": {
   "display_name": "Python 3 (ipykernel)",
   "language": "python",
   "name": "python3"
  },
  "language_info": {
   "codemirror_mode": {
    "name": "ipython",
    "version": 3
   },
   "file_extension": ".py",
   "mimetype": "text/x-python",
   "name": "python",
   "nbconvert_exporter": "python",
   "pygments_lexer": "ipython3",
   "version": "3.11.5"
  }
 },
 "nbformat": 4,
 "nbformat_minor": 5
}

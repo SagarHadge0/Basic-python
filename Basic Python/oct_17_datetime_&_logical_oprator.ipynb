{
 "cells": [
  {
   "cell_type": "code",
   "execution_count": 1,
   "id": "2c3cb2d6",
   "metadata": {},
   "outputs": [
    {
     "name": "stdout",
     "output_type": "stream",
     "text": [
      "difference of dates:- 7699 days, 0:00:00\n"
     ]
    }
   ],
   "source": [
    "from datetime import date\n",
    "\n",
    "a = date(2002,10,1)\n",
    "b = date(2023,10,30)\n",
    "print('difference of dates:-',b-a)"
   ]
  },
  {
   "cell_type": "code",
   "execution_count": 4,
   "id": "b866c3dc",
   "metadata": {},
   "outputs": [
    {
     "name": "stdout",
     "output_type": "stream",
     "text": [
      "difference of dates and times:- 7686 days, 18:31:00\n"
     ]
    }
   ],
   "source": [
    "#printing difference between dates and times\n",
    "\n",
    "from datetime import datetime\n",
    "\n",
    "a = datetime(2002,10,1,  1,25,5)\n",
    "b = datetime(2023,10,17, 19,56,5)\n",
    "print('difference of dates and times:-',b-a)"
   ]
  },
  {
   "cell_type": "markdown",
   "id": "c313c71c",
   "metadata": {},
   "source": [
    "# recursion"
   ]
  },
  {
   "cell_type": "code",
   "execution_count": 7,
   "id": "588e795d",
   "metadata": {},
   "outputs": [
    {
     "name": "stdout",
     "output_type": "stream",
     "text": [
      "120\n"
     ]
    }
   ],
   "source": [
    "#factrorial of numbers\n",
    "#4*3*2*1\n",
    "\n",
    "def factorial(n):\n",
    "    if n==1:\n",
    "        return 1\n",
    "    else:\n",
    "        return n*factorial(n-1)     \n",
    "print(factorial(5))    "
   ]
  },
  {
   "cell_type": "code",
   "execution_count": 2,
   "id": "1bbf1cfd",
   "metadata": {},
   "outputs": [
    {
     "name": "stdout",
     "output_type": "stream",
     "text": [
      "30\n"
     ]
    }
   ],
   "source": [
    "#printing sum of square of nubers\n",
    "# 4*3*2*1\n",
    "# 16+9+4+1\n",
    "\n",
    "def sum_square(n):\n",
    "    if n==1:\n",
    "        return 1\n",
    "    else:\n",
    "        return n*n+sum_square(n-1)\n",
    "print(sum_square(4))    "
   ]
  },
  {
   "cell_type": "code",
   "execution_count": 2,
   "id": "04fbbbb8",
   "metadata": {},
   "outputs": [
    {
     "name": "stdout",
     "output_type": "stream",
     "text": [
      "91\n"
     ]
    }
   ],
   "source": [
    "def sum_square(n):\n",
    "    if n == 1:\n",
    "        return 1\n",
    "    else:\n",
    "        return n*n+sum_square(n-1)\n",
    "print(sum_square(6))    \n",
    "    "
   ]
  },
  {
   "cell_type": "code",
   "execution_count": 5,
   "id": "1e306308",
   "metadata": {},
   "outputs": [
    {
     "name": "stdout",
     "output_type": "stream",
     "text": [
      "140\n"
     ]
    }
   ],
   "source": [
    "def sum_square(n):\n",
    "    if n == 1:\n",
    "        return 1\n",
    "    else:\n",
    "        return n*n+sum_square(n-1)\n",
    "print(sum_square(7))    "
   ]
  },
  {
   "cell_type": "code",
   "execution_count": 6,
   "id": "b19b223b",
   "metadata": {},
   "outputs": [
    {
     "name": "stdout",
     "output_type": "stream",
     "text": [
      "5040\n"
     ]
    }
   ],
   "source": [
    "def factorial(n):\n",
    "    if n == 1:\n",
    "        return 1\n",
    "    else:\n",
    "        return n * factorial(n-1)\n",
    "print(factorial(7))        "
   ]
  },
  {
   "cell_type": "markdown",
   "id": "72680e01",
   "metadata": {},
   "source": [
    "# Keywords"
   ]
  },
  {
   "cell_type": "code",
   "execution_count": 11,
   "id": "c5a5e7fd",
   "metadata": {},
   "outputs": [
    {
     "name": "stdout",
     "output_type": "stream",
     "text": [
      "['False', 'None', 'True', 'and', 'as', 'assert', 'async', 'await', 'break', 'class', 'continue', 'def', 'del', 'elif', 'else', 'except', 'finally', 'for', 'from', 'global', 'if', 'import', 'in', 'is', 'lambda', 'nonlocal', 'not', 'or', 'pass', 'raise', 'return', 'try', 'while', 'with', 'yield']\n",
      "Total keyword:- 35\n"
     ]
    }
   ],
   "source": [
    "import keyword\n",
    "print(keyword.kwlist)\n",
    "print('Total keyword:-',len(keyword.kwlist))"
   ]
  },
  {
   "cell_type": "code",
   "execution_count": 12,
   "id": "19c52def",
   "metadata": {},
   "outputs": [
    {
     "name": "stdout",
     "output_type": "stream",
     "text": [
      "sys.version_info(major=3, minor=11, micro=5, releaselevel='final', serial=0)\n"
     ]
    }
   ],
   "source": [
    "import sys\n",
    "print(sys.version_info)"
   ]
  },
  {
   "cell_type": "markdown",
   "id": "bbc0762f",
   "metadata": {},
   "source": [
    "# Logical oprators"
   ]
  },
  {
   "cell_type": "code",
   "execution_count": 13,
   "id": "3c6ede0e",
   "metadata": {},
   "outputs": [
    {
     "name": "stdout",
     "output_type": "stream",
     "text": [
      "True\n",
      "False\n"
     ]
    }
   ],
   "source": [
    "#And oprator\n",
    "\n",
    "print(1<5 and 2<5)\n",
    "print(1>5 and 2<5)"
   ]
  },
  {
   "cell_type": "code",
   "execution_count": 1,
   "id": "4cbad4ff",
   "metadata": {},
   "outputs": [
    {
     "name": "stdout",
     "output_type": "stream",
     "text": [
      "True\n",
      "True\n"
     ]
    }
   ],
   "source": [
    "#or oprator\n",
    "\n",
    "print(1<5 or 2<5) \n",
    "print(1>5 or 1<5)"
   ]
  },
  {
   "cell_type": "code",
   "execution_count": 2,
   "id": "bb7d9b23",
   "metadata": {},
   "outputs": [
    {
     "name": "stdout",
     "output_type": "stream",
     "text": [
      "False\n",
      "True\n"
     ]
    }
   ],
   "source": [
    "#not oprator\n",
    "\n",
    "print(not 2<5)\n",
    "print(not 2>5)"
   ]
  },
  {
   "cell_type": "code",
   "execution_count": 9,
   "id": "72d13cd8",
   "metadata": {},
   "outputs": [
    {
     "name": "stdout",
     "output_type": "stream",
     "text": [
      "['False', 'None', 'True', 'and', 'as', 'assert', 'async', 'await', 'break', 'class', 'continue', 'def', 'del', 'elif', 'else', 'except', 'finally', 'for', 'from', 'global', 'if', 'import', 'in', 'is', 'lambda', 'nonlocal', 'not', 'or', 'pass', 'raise', 'return', 'try', 'while', 'with', 'yield']\n",
      "total keyword:- 35\n"
     ]
    }
   ],
   "source": [
    "import keyword\n",
    "print(keyword.kwlist)\n",
    "print('total keyword:-',len(keyword.kwlist))"
   ]
  },
  {
   "cell_type": "code",
   "execution_count": null,
   "id": "3dd04c00",
   "metadata": {},
   "outputs": [],
   "source": []
  }
 ],
 "metadata": {
  "kernelspec": {
   "display_name": "Python 3 (ipykernel)",
   "language": "python",
   "name": "python3"
  },
  "language_info": {
   "codemirror_mode": {
    "name": "ipython",
    "version": 3
   },
   "file_extension": ".py",
   "mimetype": "text/x-python",
   "name": "python",
   "nbconvert_exporter": "python",
   "pygments_lexer": "ipython3",
   "version": "3.11.5"
  }
 },
 "nbformat": 4,
 "nbformat_minor": 5
}

{
 "cells": [
  {
   "cell_type": "markdown",
   "id": "4fa89d36",
   "metadata": {},
   "source": [
    "# Global keyword\n",
    "## global keyword is that allow user to modify variable outside of the current scope\n"
   ]
  },
  {
   "cell_type": "code",
   "execution_count": 4,
   "id": "584bbf8d",
   "metadata": {},
   "outputs": [
    {
     "name": "stdout",
     "output_type": "stream",
     "text": [
      "10\n",
      "11\n",
      "10\n"
     ]
    }
   ],
   "source": [
    "#withaot global keyword\n",
    "\n",
    "i = 10\n",
    "def p():\n",
    "    print(i)\n",
    "    \n",
    "def incre():\n",
    "    i = 11\n",
    "    print(i)\n",
    "    \n",
    "p() \n",
    "incre()\n",
    "p()\n",
    "    "
   ]
  },
  {
   "cell_type": "code",
   "execution_count": 8,
   "id": "9a23b9ce",
   "metadata": {},
   "outputs": [
    {
     "name": "stdout",
     "output_type": "stream",
     "text": [
      "10\n",
      "11\n",
      "11\n",
      "11\n"
     ]
    }
   ],
   "source": [
    "# with global keyword\n",
    "i = 10\n",
    "def p():\n",
    "    print(i)\n",
    "    \n",
    "def incre():\n",
    "    global i\n",
    "    i = 11\n",
    "    print(i)\n",
    "    \n",
    "p()    \n",
    "incre()\n",
    "p()\n",
    "p()"
   ]
  },
  {
   "cell_type": "code",
   "execution_count": 11,
   "id": "693102aa",
   "metadata": {},
   "outputs": [
    {
     "name": "stdout",
     "output_type": "stream",
     "text": [
      "10\n",
      "11\n",
      "11\n"
     ]
    }
   ],
   "source": [
    "i = 10\n",
    "def p():\n",
    "    print(i)\n",
    "    \n",
    "def incre():\n",
    "    global i\n",
    "    i = 11\n",
    "    print(i)\n",
    "    \n",
    "p()\n",
    "incre()\n",
    "p()"
   ]
  },
  {
   "cell_type": "code",
   "execution_count": 9,
   "id": "286d1d12",
   "metadata": {},
   "outputs": [
    {
     "name": "stdout",
     "output_type": "stream",
     "text": [
      "25\n"
     ]
    }
   ],
   "source": [
    "#anather example\n",
    "\n",
    "\n",
    "i = 10\n",
    "def func():\n",
    "    global i\n",
    "    i = i + 15 \n",
    "    print(i)\n",
    "func()    \n",
    "   \n",
    "\n",
    "\n",
    "    "
   ]
  },
  {
   "cell_type": "code",
   "execution_count": 16,
   "id": "247a29c2",
   "metadata": {},
   "outputs": [
    {
     "name": "stdout",
     "output_type": "stream",
     "text": [
      "no values assigned\n",
      "11\n"
     ]
    }
   ],
   "source": [
    "i = None\n",
    "def func(i):\n",
    "    if i is None:\n",
    "        return 'no values assigned'\n",
    "    i = i + 1\n",
    "    return i\n",
    "\n",
    "print(func(i))\n",
    "print(func(10))"
   ]
  },
  {
   "cell_type": "code",
   "execution_count": 19,
   "id": "f2cee61c",
   "metadata": {},
   "outputs": [
    {
     "name": "stdout",
     "output_type": "stream",
     "text": [
      "no values assinged\n",
      "14\n"
     ]
    }
   ],
   "source": [
    "#one more try\n",
    "\n",
    "i = None\n",
    "def func(i):\n",
    "    if i is None:\n",
    "        return \"no values assinged\"\n",
    "    i = i * 2\n",
    "    return i\n",
    "\n",
    "print(func(i))\n",
    "print(func(7))"
   ]
  },
  {
   "cell_type": "markdown",
   "id": "e03447aa",
   "metadata": {},
   "source": [
    "# Is keyword\n",
    "## is keyword is used to test object identity.."
   ]
  },
  {
   "cell_type": "code",
   "execution_count": 20,
   "id": "75f9de7c",
   "metadata": {},
   "outputs": [
    {
     "name": "stdout",
     "output_type": "stream",
     "text": [
      "True\n",
      "True\n"
     ]
    }
   ],
   "source": [
    "a ='aa'\n",
    "b = 'aa'\n",
    "print(a is b)\n",
    "print(a == b)"
   ]
  },
  {
   "cell_type": "code",
   "execution_count": 21,
   "id": "1a54b7e7",
   "metadata": {},
   "outputs": [
    {
     "name": "stdout",
     "output_type": "stream",
     "text": [
      "False\n",
      "True\n"
     ]
    }
   ],
   "source": [
    "a = [1,2,3,4]\n",
    "b = [1,2,3,4]\n",
    "print(a is b)\n",
    "print(a == b)"
   ]
  },
  {
   "cell_type": "code",
   "execution_count": 23,
   "id": "d54d4a03",
   "metadata": {},
   "outputs": [
    {
     "name": "stdout",
     "output_type": "stream",
     "text": [
      "False\n",
      "True\n"
     ]
    }
   ],
   "source": [
    "a = {2:3,4:3,5:6}\n",
    "b = {2:3,4:3,5:6}\n",
    "print(a is b)\n",
    "print(a == b)"
   ]
  },
  {
   "cell_type": "markdown",
   "id": "b4918aba",
   "metadata": {},
   "source": [
    "# Membership operator\n",
    "## the membership operator used to test whether a value is member of sequence"
   ]
  },
  {
   "cell_type": "code",
   "execution_count": 25,
   "id": "7f7ac631",
   "metadata": {},
   "outputs": [
    {
     "name": "stdout",
     "output_type": "stream",
     "text": [
      "True\n",
      "False\n"
     ]
    }
   ],
   "source": [
    "a = [1,2,3,4]\n",
    "print(4 in a)\n",
    "print(5 in a)"
   ]
  },
  {
   "cell_type": "code",
   "execution_count": 26,
   "id": "da13982f",
   "metadata": {},
   "outputs": [
    {
     "name": "stdout",
     "output_type": "stream",
     "text": [
      "False\n",
      "True\n"
     ]
    }
   ],
   "source": [
    "#Not in\n",
    "\n",
    "a = [1,2,3,4]\n",
    "print(4 not in a)\n",
    "print(5 not in a)"
   ]
  },
  {
   "cell_type": "code",
   "execution_count": 28,
   "id": "3dfce260",
   "metadata": {},
   "outputs": [
    {
     "name": "stdout",
     "output_type": "stream",
     "text": [
      "True\n",
      "False\n"
     ]
    }
   ],
   "source": [
    "b ={0:1,9:8,3:4}\n",
    "print(9 in b)\n",
    "print(7 in b)"
   ]
  },
  {
   "cell_type": "code",
   "execution_count": 29,
   "id": "d541cc13",
   "metadata": {},
   "outputs": [
    {
     "name": "stdout",
     "output_type": "stream",
     "text": [
      "False\n",
      "True\n"
     ]
    }
   ],
   "source": [
    "b ={0:1,9:8,3:4}\n",
    "print(9 not in b)\n",
    "print(2 not in b)"
   ]
  },
  {
   "cell_type": "markdown",
   "id": "7ae9f6b5",
   "metadata": {},
   "source": [
    "# Nested function\n",
    "## nested function is function defined inside anather function "
   ]
  },
  {
   "cell_type": "code",
   "execution_count": 33,
   "id": "33885292",
   "metadata": {},
   "outputs": [
    {
     "name": "stdout",
     "output_type": "stream",
     "text": [
      "multiplication is :- 100\n"
     ]
    }
   ],
   "source": [
    "def f1():\n",
    "    x = 10\n",
    "    def f2():\n",
    "        return x*x\n",
    "    print(\"multiplication is :-\",f2())\n",
    "    \n",
    "f1()    "
   ]
  },
  {
   "cell_type": "code",
   "execution_count": 37,
   "id": "8817a128",
   "metadata": {},
   "outputs": [
    {
     "name": "stdout",
     "output_type": "stream",
     "text": [
      "multiplication is :- 450.0\n"
     ]
    }
   ],
   "source": [
    "def f1():\n",
    "    x = 30\n",
    "    def f2():\n",
    "        return x * x / 2\n",
    "    print(\"multiplication is :-\",f2())\n",
    "    \n",
    "f1()    "
   ]
  },
  {
   "cell_type": "code",
   "execution_count": null,
   "id": "41283d96",
   "metadata": {},
   "outputs": [],
   "source": []
  }
 ],
 "metadata": {
  "kernelspec": {
   "display_name": "Python 3 (ipykernel)",
   "language": "python",
   "name": "python3"
  },
  "language_info": {
   "codemirror_mode": {
    "name": "ipython",
    "version": 3
   },
   "file_extension": ".py",
   "mimetype": "text/x-python",
   "name": "python",
   "nbconvert_exporter": "python",
   "pygments_lexer": "ipython3",
   "version": "3.11.5"
  }
 },
 "nbformat": 4,
 "nbformat_minor": 5
}

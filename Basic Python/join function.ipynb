{
 "cells": [
  {
   "cell_type": "code",
   "execution_count": 1,
   "id": "8d9b1b15",
   "metadata": {},
   "outputs": [
    {
     "name": "stdout",
     "output_type": "stream",
     "text": [
      "as,bd\n"
     ]
    }
   ],
   "source": [
    "a = ['as','bd']\n",
    "b = ','\n",
    "print(b.join(a))\n"
   ]
  },
  {
   "cell_type": "code",
   "execution_count": 2,
   "id": "836923fc",
   "metadata": {},
   "outputs": [
    {
     "name": "stdout",
     "output_type": "stream",
     "text": [
      "['as', 'bd']\n"
     ]
    }
   ],
   "source": [
    "print(a)"
   ]
  },
  {
   "cell_type": "code",
   "execution_count": 3,
   "id": "682ed4e2",
   "metadata": {},
   "outputs": [
    {
     "name": "stdout",
     "output_type": "stream",
     "text": [
      "as--bd\n"
     ]
    }
   ],
   "source": [
    "a = ['as','bd']\n",
    "b = '--'\n",
    "print(b.join(a))\n",
    "\n"
   ]
  },
  {
   "cell_type": "code",
   "execution_count": 4,
   "id": "0609b2e3",
   "metadata": {},
   "outputs": [
    {
     "name": "stdout",
     "output_type": "stream",
     "text": [
      "as\n",
      "bd\n"
     ]
    }
   ],
   "source": [
    "a = ['as','bd']\n",
    "b = '\\n'\n",
    "print(b.join(a))\n"
   ]
  },
  {
   "cell_type": "code",
   "execution_count": 5,
   "id": "674a5e7f",
   "metadata": {},
   "outputs": [
    {
     "name": "stdout",
     "output_type": "stream",
     "text": [
      "as\tbd\n"
     ]
    }
   ],
   "source": [
    "a = ['as','bd']\n",
    "b = '\\t'\n",
    "print(b.join(a))\n"
   ]
  },
  {
   "cell_type": "markdown",
   "id": "be51394c",
   "metadata": {},
   "source": [
    "# format function"
   ]
  },
  {
   "cell_type": "code",
   "execution_count": 9,
   "id": "a60a80e7",
   "metadata": {},
   "outputs": [
    {
     "name": "stdout",
     "output_type": "stream",
     "text": [
      "one two\n"
     ]
    }
   ],
   "source": [
    "print('{} {}'.format('one','two'))"
   ]
  },
  {
   "cell_type": "code",
   "execution_count": 10,
   "id": "da16a2a2",
   "metadata": {},
   "outputs": [
    {
     "name": "stdout",
     "output_type": "stream",
     "text": [
      "two one\n"
     ]
    }
   ],
   "source": [
    "print('{1} {0}'.format('one','two'))"
   ]
  },
  {
   "cell_type": "code",
   "execution_count": 11,
   "id": "41cb94c8",
   "metadata": {},
   "outputs": [
    {
     "name": "stdout",
     "output_type": "stream",
     "text": [
      "two two two two\n"
     ]
    }
   ],
   "source": [
    "print('{1} {1} {1} {1}'.format('one','two'))"
   ]
  },
  {
   "cell_type": "code",
   "execution_count": 12,
   "id": "58f22704",
   "metadata": {},
   "outputs": [],
   "source": [
    "#to add space after string"
   ]
  },
  {
   "cell_type": "code",
   "execution_count": 15,
   "id": "8741c169",
   "metadata": {},
   "outputs": [
    {
     "name": "stdout",
     "output_type": "stream",
     "text": [
      "test      \n"
     ]
    }
   ],
   "source": [
    "print('{:<10}'.format('test'))"
   ]
  },
  {
   "cell_type": "code",
   "execution_count": null,
   "id": "81e59126",
   "metadata": {},
   "outputs": [],
   "source": [
    "#to add space before string"
   ]
  },
  {
   "cell_type": "code",
   "execution_count": 16,
   "id": "06f50186",
   "metadata": {},
   "outputs": [
    {
     "name": "stdout",
     "output_type": "stream",
     "text": [
      "      test\n"
     ]
    }
   ],
   "source": [
    "print('{:>10}'.format('test'))"
   ]
  },
  {
   "cell_type": "code",
   "execution_count": 17,
   "id": "1ebe5fbe",
   "metadata": {},
   "outputs": [
    {
     "name": "stdout",
     "output_type": "stream",
     "text": [
      "test______\n"
     ]
    }
   ],
   "source": [
    "print('{:_<10}'.format('test'))"
   ]
  },
  {
   "cell_type": "code",
   "execution_count": 18,
   "id": "57583b8c",
   "metadata": {},
   "outputs": [
    {
     "name": "stdout",
     "output_type": "stream",
     "text": [
      "______test\n"
     ]
    }
   ],
   "source": [
    "print('{:_>10}'.format('test'))"
   ]
  },
  {
   "cell_type": "code",
   "execution_count": 19,
   "id": "82cc6fcc",
   "metadata": {},
   "outputs": [
    {
     "name": "stdout",
     "output_type": "stream",
     "text": [
      "test......\n"
     ]
    }
   ],
   "source": [
    "print('{:.<10}'.format('test'))"
   ]
  },
  {
   "cell_type": "code",
   "execution_count": 1,
   "id": "2df79400",
   "metadata": {},
   "outputs": [
    {
     "name": "stdout",
     "output_type": "stream",
     "text": [
      "______test\n"
     ]
    }
   ],
   "source": [
    "print('{:_>10}'.format('test'))"
   ]
  },
  {
   "cell_type": "markdown",
   "id": "d6e67515",
   "metadata": {},
   "source": [
    "# center align\n"
   ]
  },
  {
   "cell_type": "code",
   "execution_count": 3,
   "id": "2a77dbaf",
   "metadata": {},
   "outputs": [
    {
     "name": "stdout",
     "output_type": "stream",
     "text": [
      "...zip....\n"
     ]
    }
   ],
   "source": [
    "print('{:.^10}'.format('zip'))"
   ]
  },
  {
   "cell_type": "code",
   "execution_count": null,
   "id": "097fe8eb",
   "metadata": {},
   "outputs": [],
   "source": []
  }
 ],
 "metadata": {
  "kernelspec": {
   "display_name": "Python 3 (ipykernel)",
   "language": "python",
   "name": "python3"
  },
  "language_info": {
   "codemirror_mode": {
    "name": "ipython",
    "version": 3
   },
   "file_extension": ".py",
   "mimetype": "text/x-python",
   "name": "python",
   "nbconvert_exporter": "python",
   "pygments_lexer": "ipython3",
   "version": "3.11.5"
  }
 },
 "nbformat": 4,
 "nbformat_minor": 5
}

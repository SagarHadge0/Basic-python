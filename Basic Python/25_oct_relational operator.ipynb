{
 "cells": [
  {
   "cell_type": "markdown",
   "id": "71e697bf",
   "metadata": {},
   "source": [
    "# Relational operator"
   ]
  },
  {
   "cell_type": "code",
   "execution_count": 1,
   "id": "2370213e",
   "metadata": {},
   "outputs": [
    {
     "name": "stdout",
     "output_type": "stream",
     "text": [
      "False\n",
      "True\n"
     ]
    }
   ],
   "source": [
    "# == equals to\n",
    "\n",
    "print(1 == 2)\n",
    "print(1 == 1)"
   ]
  },
  {
   "cell_type": "code",
   "execution_count": 2,
   "id": "5f942993",
   "metadata": {},
   "outputs": [
    {
     "name": "stdout",
     "output_type": "stream",
     "text": [
      "True\n",
      "False\n"
     ]
    }
   ],
   "source": [
    "# != not equals to\n",
    "\n",
    "print(1 != 2)\n",
    "print(1 != 1)"
   ]
  },
  {
   "cell_type": "code",
   "execution_count": 3,
   "id": "3f6b2034",
   "metadata": {},
   "outputs": [
    {
     "name": "stdout",
     "output_type": "stream",
     "text": [
      "True\n",
      "False\n"
     ]
    }
   ],
   "source": [
    "# < less then \n",
    "\n",
    "print(1 < 2)\n",
    "print(1 < 1)"
   ]
  },
  {
   "cell_type": "code",
   "execution_count": 4,
   "id": "2157fe3e",
   "metadata": {},
   "outputs": [
    {
     "name": "stdout",
     "output_type": "stream",
     "text": [
      "False\n",
      "False\n"
     ]
    }
   ],
   "source": [
    "# > greater then\n",
    "\n",
    "print(1 > 2)\n",
    "print(1 > 1)\n",
    "\n"
   ]
  },
  {
   "cell_type": "code",
   "execution_count": 5,
   "id": "f59a2ee8",
   "metadata": {},
   "outputs": [
    {
     "name": "stdout",
     "output_type": "stream",
     "text": [
      "True\n",
      "True\n"
     ]
    }
   ],
   "source": [
    "# <= less then equal to\n",
    "\n",
    "print(1 <= 2)\n",
    "print(1 <= 1)"
   ]
  },
  {
   "cell_type": "code",
   "execution_count": 6,
   "id": "9fc57177",
   "metadata": {},
   "outputs": [
    {
     "name": "stdout",
     "output_type": "stream",
     "text": [
      "False\n",
      "True\n"
     ]
    }
   ],
   "source": [
    "# >= greater then equal to\n",
    "\n",
    "print(1 >= 2)\n",
    "print(1 >= 1)"
   ]
  },
  {
   "cell_type": "markdown",
   "id": "acbd46f3",
   "metadata": {},
   "source": [
    "# square root"
   ]
  },
  {
   "cell_type": "code",
   "execution_count": 7,
   "id": "c69ea06c",
   "metadata": {},
   "outputs": [
    {
     "name": "stdout",
     "output_type": "stream",
     "text": [
      "2.0\n"
     ]
    }
   ],
   "source": [
    "import math\n",
    "print(math.sqrt(4))"
   ]
  },
  {
   "cell_type": "code",
   "execution_count": 11,
   "id": "3f13c29c",
   "metadata": {},
   "outputs": [
    {
     "name": "stdout",
     "output_type": "stream",
     "text": [
      "22.360679774997898\n"
     ]
    }
   ],
   "source": [
    "import math\n",
    "print(math.sqrt(500))"
   ]
  },
  {
   "cell_type": "markdown",
   "id": "d212af87",
   "metadata": {},
   "source": [
    "# pythagores theoram"
   ]
  },
  {
   "cell_type": "code",
   "execution_count": 12,
   "id": "f3244a20",
   "metadata": {},
   "outputs": [
    {
     "name": "stdout",
     "output_type": "stream",
     "text": [
      "5.0\n"
     ]
    }
   ],
   "source": [
    "#c * c = a*a + b*b\n",
    "\n",
    "import math\n",
    "a = 3\n",
    "b = 4\n",
    "print(math.sqrt(a*a + b*b))"
   ]
  },
  {
   "cell_type": "code",
   "execution_count": 13,
   "id": "2895c722",
   "metadata": {},
   "outputs": [
    {
     "name": "stdout",
     "output_type": "stream",
     "text": [
      "7.0710678118654755\n"
     ]
    }
   ],
   "source": [
    "import math\n",
    "a = 5\n",
    "b = 5\n",
    "print(math.sqrt(a*a + b*b))"
   ]
  },
  {
   "cell_type": "code",
   "execution_count": 16,
   "id": "49b16c47",
   "metadata": {},
   "outputs": [
    {
     "name": "stdout",
     "output_type": "stream",
     "text": [
      "8.48528137423857\n"
     ]
    }
   ],
   "source": [
    "import math \n",
    "a = 6 \n",
    "b = 6\n",
    "print(math.sqrt(a*a + b*b))"
   ]
  },
  {
   "cell_type": "code",
   "execution_count": 1,
   "id": "6359d4ca",
   "metadata": {},
   "outputs": [
    {
     "name": "stdout",
     "output_type": "stream",
     "text": [
      "7.0710678118654755\n"
     ]
    }
   ],
   "source": [
    "import math\n",
    "a = 5 \n",
    "b = 5\n",
    "print(math.sqrt(a*a + b*b))"
   ]
  },
  {
   "cell_type": "markdown",
   "id": "7d132d3a",
   "metadata": {},
   "source": [
    "# Exponential"
   ]
  },
  {
   "cell_type": "code",
   "execution_count": 17,
   "id": "74a06862",
   "metadata": {},
   "outputs": [
    {
     "name": "stdout",
     "output_type": "stream",
     "text": [
      "148.4131591025766\n"
     ]
    }
   ],
   "source": [
    "import math\n",
    "print(math.exp(5))"
   ]
  },
  {
   "cell_type": "code",
   "execution_count": 18,
   "id": "79deed3c",
   "metadata": {},
   "outputs": [
    {
     "name": "stdout",
     "output_type": "stream",
     "text": [
      "2.718281828459045\n"
     ]
    }
   ],
   "source": [
    "import math\n",
    "print(math.exp(1))"
   ]
  },
  {
   "cell_type": "markdown",
   "id": "19a94184",
   "metadata": {},
   "source": [
    "# Logarithm"
   ]
  },
  {
   "cell_type": "code",
   "execution_count": 19,
   "id": "6a15bc03",
   "metadata": {},
   "outputs": [
    {
     "name": "stdout",
     "output_type": "stream",
     "text": [
      "1.6094379124341003\n"
     ]
    }
   ],
   "source": [
    "import math\n",
    "print(math.log(5))"
   ]
  },
  {
   "cell_type": "code",
   "execution_count": 20,
   "id": "8a22f533",
   "metadata": {},
   "outputs": [
    {
     "name": "stdout",
     "output_type": "stream",
     "text": [
      "1.791759469228055\n"
     ]
    }
   ],
   "source": [
    "import math\n",
    "print(math.log(6))"
   ]
  },
  {
   "cell_type": "code",
   "execution_count": 21,
   "id": "ec2c59d7",
   "metadata": {},
   "outputs": [
    {
     "name": "stdout",
     "output_type": "stream",
     "text": [
      "2.0\n"
     ]
    }
   ],
   "source": [
    "import math\n",
    "print(math.log10(100))"
   ]
  },
  {
   "cell_type": "markdown",
   "id": "bf1d15fb",
   "metadata": {},
   "source": [
    "# Regular expression"
   ]
  },
  {
   "cell_type": "code",
   "execution_count": 22,
   "id": "9a4d13bf",
   "metadata": {},
   "outputs": [
    {
     "name": "stdout",
     "output_type": "stream",
     "text": [
      "found:- steve paul jobs was born in san francisco calefornia, on february\n"
     ]
    }
   ],
   "source": [
    "import re\n",
    "s = 'steve paul jobs was born in san francisco calefornia, on february'\n",
    "p = re.search('.*paul.*',s)\n",
    "if p:\n",
    "    print('found:-',p.group())\n",
    "else:\n",
    "    print('Not found:-')"
   ]
  },
  {
   "cell_type": "code",
   "execution_count": 5,
   "id": "bfe8e145",
   "metadata": {},
   "outputs": [
    {
     "name": "stdout",
     "output_type": "stream",
     "text": [
      "found:- steve paul jobs was born in san francisco calefornia, on february\n"
     ]
    }
   ],
   "source": [
    "import re\n",
    "s ='steve paul jobs was born in san francisco calefornia, on february'\n",
    "p = re.search('.*.*',s)\n",
    "if p:\n",
    "    print('found:-',p.group())\n",
    "else:\n",
    "    print('not found:-')"
   ]
  },
  {
   "cell_type": "code",
   "execution_count": 23,
   "id": "c33cf2da",
   "metadata": {},
   "outputs": [
    {
     "name": "stdout",
     "output_type": "stream",
     "text": [
      "not found:-\n"
     ]
    }
   ],
   "source": [
    "import re\n",
    "s = 'steve paul jobs was born in san francisco calefornia, on february'\n",
    "\n",
    "p = re.search('.*sagar.*',s)\n",
    "if p:\n",
    "    print('found:-')\n",
    "else:\n",
    "    print('not found:-')"
   ]
  },
  {
   "cell_type": "code",
   "execution_count": 24,
   "id": "47dc61ae",
   "metadata": {},
   "outputs": [
    {
     "name": "stdout",
     "output_type": "stream",
     "text": [
      "found:- steve paul jobs was born in san francisco calefornia, on february\n",
      "Group1:- steve paul jobs was born \n",
      "Group2:-  san francisco calefornia, on february\n"
     ]
    }
   ],
   "source": [
    "import re\n",
    "s = 'steve paul jobs was born in san francisco calefornia, on february'\n",
    "\n",
    "p = re.search('(.*)in(.*)',s)\n",
    "if p:\n",
    "    print('found:-',p.group())\n",
    "    print('Group1:-',p.group(1))\n",
    "    print('Group2:-',p.group(2))\n",
    "else:\n",
    "    print('Not found...')"
   ]
  },
  {
   "cell_type": "code",
   "execution_count": 25,
   "id": "3771a1d6",
   "metadata": {},
   "outputs": [
    {
     "name": "stdout",
     "output_type": "stream",
     "text": [
      "Found:- steve paul jobs was born in san francisco calefornia, on february\n",
      "Group1:- steve paul jobs was born \n",
      "Group1:- STEVE PAUL JOBS WAS BORN \n",
      "Group2:-  san francisco calefornia, on february\n",
      "Group2:-  SAN FRANCISCO CALEFORNIA, ON FEBRUARY\n"
     ]
    }
   ],
   "source": [
    "import re\n",
    "s = 'steve paul jobs was born in san francisco calefornia, on february'\n",
    "p = re.search('(.*)in(.*)',s)\n",
    "if p:\n",
    "    print('Found:-',p.group())\n",
    "    print('Group1:-',p.group(1))\n",
    "    print('Group1:-',p.group(1).upper())\n",
    "    print('Group2:-',p.group(2))\n",
    "    print('Group2:-',p.group(2).upper())\n",
    "else:\n",
    "    print('Not found..')"
   ]
  },
  {
   "cell_type": "code",
   "execution_count": 1,
   "id": "c99e8092",
   "metadata": {},
   "outputs": [
    {
     "name": "stdout",
     "output_type": "stream",
     "text": [
      "match:- steve paul jobs was born in san francisco calefornia, on february\n"
     ]
    }
   ],
   "source": [
    "import re\n",
    "s = 'steve paul jobs was born in san francisco calefornia, on february'\n",
    "p = re.match('steve.*',s)\n",
    "if p:\n",
    "    print('match:-',p.group())\n",
    "else:\n",
    "    print('not match...')"
   ]
  },
  {
   "cell_type": "code",
   "execution_count": 4,
   "id": "233df6dd",
   "metadata": {},
   "outputs": [
    {
     "name": "stdout",
     "output_type": "stream",
     "text": [
      "not found...\n"
     ]
    }
   ],
   "source": [
    "import re\n",
    "s = 'steve paul jobs was born in san francisco calefornia , on february'\n",
    "p = re.match('sagar.*',s)\n",
    "if p:\n",
    "    print('match:-',p.group())\n",
    "else:\n",
    "    print('not found...')"
   ]
  },
  {
   "cell_type": "code",
   "execution_count": null,
   "id": "0b9581c0",
   "metadata": {},
   "outputs": [],
   "source": []
  }
 ],
 "metadata": {
  "kernelspec": {
   "display_name": "Python 3 (ipykernel)",
   "language": "python",
   "name": "python3"
  },
  "language_info": {
   "codemirror_mode": {
    "name": "ipython",
    "version": 3
   },
   "file_extension": ".py",
   "mimetype": "text/x-python",
   "name": "python",
   "nbconvert_exporter": "python",
   "pygments_lexer": "ipython3",
   "version": "3.11.5"
  }
 },
 "nbformat": 4,
 "nbformat_minor": 5
}

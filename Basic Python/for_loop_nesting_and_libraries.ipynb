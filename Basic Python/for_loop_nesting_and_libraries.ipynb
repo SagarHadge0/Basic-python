{
 "cells": [
  {
   "cell_type": "code",
   "execution_count": 1,
   "id": "76e2bfe2",
   "metadata": {},
   "outputs": [
    {
     "name": "stdout",
     "output_type": "stream",
     "text": [
      "1 apple\n",
      "1 banana\n",
      "1 grapes\n",
      "1 mango\n",
      "2 apple\n",
      "2 banana\n",
      "2 grapes\n",
      "2 mango\n",
      "3 apple\n",
      "3 banana\n",
      "3 grapes\n",
      "3 mango\n",
      "4 apple\n",
      "4 banana\n",
      "4 grapes\n",
      "4 mango\n"
     ]
    }
   ],
   "source": [
    "a = [1,2,3,4]\n",
    "b = ['apple','banana','grapes','mango']\n",
    "for i in a:\n",
    "    for j in b:\n",
    "        print(i,j)"
   ]
  },
  {
   "cell_type": "code",
   "execution_count": 1,
   "id": "4548e497",
   "metadata": {},
   "outputs": [
    {
     "name": "stdout",
     "output_type": "stream",
     "text": [
      "1 Apple\n",
      "1 Banana\n",
      "1 grapes\n",
      "1 mangoes\n",
      "1 orenges\n",
      "2 Apple\n",
      "2 Banana\n",
      "2 grapes\n",
      "2 mangoes\n",
      "2 orenges\n",
      "3 Apple\n",
      "3 Banana\n",
      "3 grapes\n",
      "3 mangoes\n",
      "3 orenges\n",
      "4 Apple\n",
      "4 Banana\n",
      "4 grapes\n",
      "4 mangoes\n",
      "4 orenges\n",
      "5 Apple\n",
      "5 Banana\n",
      "5 grapes\n",
      "5 mangoes\n",
      "5 orenges\n",
      "6 Apple\n",
      "6 Banana\n",
      "6 grapes\n",
      "6 mangoes\n",
      "6 orenges\n"
     ]
    }
   ],
   "source": [
    "a = [1,2,3,4,5,6]\n",
    "b = ['Apple','Banana','grapes','mangoes','orenges']\n",
    "for i in a:\n",
    "    for j in b:\n",
    "        print(i,j)"
   ]
  },
  {
   "cell_type": "markdown",
   "id": "385d6482",
   "metadata": {},
   "source": [
    "# dictionary"
   ]
  },
  {
   "cell_type": "code",
   "execution_count": 2,
   "id": "f472722f",
   "metadata": {},
   "outputs": [
    {
     "name": "stdout",
     "output_type": "stream",
     "text": [
      "4\n",
      "7\n",
      "{'apple': 2, 'banana': 4, 'mango': 6, 'oranges': 7}\n"
     ]
    }
   ],
   "source": [
    "#dictinary contain key-value pair\n",
    "#key-value pair called item\n",
    "\n",
    "a = {'apple':2,'banana':4,'mango':6,'oranges':7}\n",
    "print(a['banana'])\n",
    "print(a['oranges'])\n",
    "print(a)"
   ]
  },
  {
   "cell_type": "code",
   "execution_count": 3,
   "id": "28ece381",
   "metadata": {},
   "outputs": [
    {
     "name": "stdout",
     "output_type": "stream",
     "text": [
      "apple\n",
      "banana\n",
      "mango\n",
      "oranges\n"
     ]
    }
   ],
   "source": [
    "#print keys only\n",
    "a = {'apple':2,'banana':4,'mango':6,'oranges':7}\n",
    "for i in a:\n",
    "    print(i)"
   ]
  },
  {
   "cell_type": "markdown",
   "id": "a2fa6006",
   "metadata": {},
   "source": [
    "# Importing libraries"
   ]
  },
  {
   "cell_type": "code",
   "execution_count": 7,
   "id": "8e384fb8",
   "metadata": {},
   "outputs": [
    {
     "name": "stdout",
     "output_type": "stream",
     "text": [
      "0.9092974268256817\n"
     ]
    }
   ],
   "source": [
    "import math\n",
    "print(math.sin(2))"
   ]
  },
  {
   "cell_type": "code",
   "execution_count": 9,
   "id": "69e23ab1",
   "metadata": {},
   "outputs": [
    {
     "name": "stdout",
     "output_type": "stream",
     "text": [
      "0.5403023058681397\n"
     ]
    }
   ],
   "source": [
    "import math\n",
    "print(math.cos(1))"
   ]
  },
  {
   "cell_type": "code",
   "execution_count": 10,
   "id": "47d31f5a",
   "metadata": {},
   "outputs": [
    {
     "name": "stdout",
     "output_type": "stream",
     "text": [
      "-2.185039863261519\n"
     ]
    }
   ],
   "source": [
    "import math\n",
    "print(math.tan(2))"
   ]
  },
  {
   "cell_type": "code",
   "execution_count": 1,
   "id": "90fed2cb",
   "metadata": {},
   "outputs": [
    {
     "name": "stdout",
     "output_type": "stream",
     "text": [
      "5.0\n"
     ]
    }
   ],
   "source": [
    "import math\n",
    "print(math.sqrt(25))"
   ]
  },
  {
   "cell_type": "code",
   "execution_count": 11,
   "id": "3eda60ea",
   "metadata": {},
   "outputs": [],
   "source": [
    "#print time using datetime library"
   ]
  },
  {
   "cell_type": "code",
   "execution_count": 3,
   "id": "8e4c9aed",
   "metadata": {},
   "outputs": [
    {
     "name": "stdout",
     "output_type": "stream",
     "text": [
      "Hour:- 11\n",
      "Minute:- 25\n",
      "second:- 8\n"
     ]
    }
   ],
   "source": [
    "import datetime\n",
    "\n",
    "t = datetime.time(11,25,8)\n",
    "print('Hour:-',t.hour)\n",
    "print('Minute:-',t.minute)\n",
    "print('second:-',t.second)"
   ]
  },
  {
   "cell_type": "code",
   "execution_count": 17,
   "id": "2f1223d8",
   "metadata": {},
   "outputs": [
    {
     "name": "stdout",
     "output_type": "stream",
     "text": [
      "Year:- 2020\n",
      "Month:- 7\n",
      "Day:- 21\n"
     ]
    }
   ],
   "source": [
    "#print date\n",
    "\n",
    "import datetime\n",
    "\n",
    "t = datetime.date(2020,7,21)\n",
    "print('Year:-',t.year)\n",
    "print('Month:-',t.month)\n",
    "print('Day:-',t.day)"
   ]
  },
  {
   "cell_type": "code",
   "execution_count": 2,
   "id": "9a953c5e",
   "metadata": {},
   "outputs": [
    {
     "name": "stdout",
     "output_type": "stream",
     "text": [
      "Hour:- 13\n",
      "Minute:- 34\n",
      "Seconds:- 30\n"
     ]
    }
   ],
   "source": [
    "#print current time\n",
    "\n",
    "import datetime\n",
    "t = datetime.datetime.now()\n",
    "print('Hour:-',t.hour)\n",
    "print('Minute:-',t.minute)\n",
    "print('Seconds:-',t.second)\n",
    "\n",
    "\n"
   ]
  },
  {
   "cell_type": "code",
   "execution_count": 1,
   "id": "b44cead2",
   "metadata": {},
   "outputs": [
    {
     "name": "stdout",
     "output_type": "stream",
     "text": [
      "Year:- 2023\n",
      "Month:- 12\n",
      "Day:- 12\n"
     ]
    }
   ],
   "source": [
    "#print current date\n",
    "\n",
    "import datetime\n",
    "t = datetime.datetime.now()\n",
    "print('Year:-',t.year)\n",
    "print('Month:-',t.month)\n",
    "print('Day:-',t.day)"
   ]
  },
  {
   "cell_type": "code",
   "execution_count": null,
   "id": "49f39877",
   "metadata": {},
   "outputs": [],
   "source": []
  }
 ],
 "metadata": {
  "kernelspec": {
   "display_name": "Python 3 (ipykernel)",
   "language": "python",
   "name": "python3"
  },
  "language_info": {
   "codemirror_mode": {
    "name": "ipython",
    "version": 3
   },
   "file_extension": ".py",
   "mimetype": "text/x-python",
   "name": "python",
   "nbconvert_exporter": "python",
   "pygments_lexer": "ipython3",
   "version": "3.11.5"
  }
 },
 "nbformat": 4,
 "nbformat_minor": 5
}
